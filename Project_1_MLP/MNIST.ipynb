{
 "cells": [
  {
   "cell_type": "code",
   "execution_count": 2,
   "metadata": {},
   "outputs": [],
   "source": [
    "import numpy as np\n",
    "import pandas as pd\n",
    "import matplotlib.pyplot as plt\n",
    "from copy import deepcopy\n",
    "import time\n",
    "import seaborn as sns"
   ]
  },
  {
   "cell_type": "code",
   "execution_count": 3,
   "metadata": {},
   "outputs": [],
   "source": [
    "%config IPCompleter.greedy=True"
   ]
  },
  {
   "cell_type": "code",
   "execution_count": 4,
   "metadata": {},
   "outputs": [],
   "source": [
    "class MLP_new:\n",
    "    def __init__(self, input_layer_len, output_layer_len, hidden_layers_len,\n",
    "                 acti_funs,acti_funs_grad,cost_fun,cost_fun_grad,seed=123, problem=\"\"):\n",
    "        \n",
    "        np.random.seed(seed)\n",
    "        \n",
    "        self.acti_funs=acti_funs\n",
    "        self.acti_funs_grad=acti_funs_grad\n",
    "        \n",
    "        self.cost_fun=cost_fun\n",
    "        self.cost_fun_grad=cost_fun_grad\n",
    "        \n",
    "        if problem==\"classification\" or problem==\"C\":\n",
    "            self.acti_funs=self.acti_funs+[softmax]\n",
    "            self.acti_funs_grad=self.acti_funs_grad+[softmax_grad]\n",
    "            \n",
    "        if problem==\"regression\" or problem==\"R\":\n",
    "            self.acti_funs=self.acti_funs+[identity]\n",
    "            self.acti_funs_grad=self.acti_funs_grad+[identity_grad]\n",
    "            \n",
    "        \n",
    "        self.input_layer = np.zeros((1,input_layer_len))\n",
    "        self.output_layer = np.zeros((1,output_layer_len))\n",
    "        self.output_before =np.zeros((1,output_layer_len))\n",
    "        self.weights=[]\n",
    "        \n",
    "        self.weights.append(np.random.random((hidden_layers_len[0],input_layer_len))*2-1)\n",
    "        \n",
    "        for i in range(1,len(hidden_layers_len)):\n",
    "            self.weights.append(np.random.random((hidden_layers_len[i],hidden_layers_len[i-1]))*2-1)\n",
    "            \n",
    "        self.weights.append(np.random.random((output_layer_len,hidden_layers_len[-1]))*2-1)\n",
    "        \n",
    "        self.biases=[]\n",
    "        \n",
    "        for i in range(len(hidden_layers_len)):\n",
    "            self.biases.append(np.zeros((hidden_layers_len[i],1)))\n",
    "            \n",
    "        \n",
    "        self.biases.append(np.zeros((output_layer_len,1)))\n",
    "        \n",
    "        self.hidden_layers=[]\n",
    "        \n",
    "        for i in range(len(hidden_layers_len)):\n",
    "            self.hidden_layers.append(np.zeros((hidden_layers_len[i],1)))\n",
    "        \n",
    "    \n",
    "        \n",
    "    def calculate(self,input_layer,memory=False):\n",
    "        self.input_layer=input_layer\n",
    "        \n",
    "        input_layer=input_layer.T\n",
    "        \n",
    "        if(memory):\n",
    "            for i in range(len(self.weights)-1):\n",
    "                \n",
    "                self.hidden_layers[i]=self.weights[i].dot(input_layer)+self.biases[i]\n",
    "                input_layer=self.acti_funs[i](self.hidden_layers[i])\n",
    "                \n",
    "        else:    \n",
    "            for i in range(len(self.weights)-1):\n",
    "                input_layer=self.acti_funs[i](self.weights[i].dot(input_layer)+self.biases[i])\n",
    "                \n",
    "        \n",
    "       \n",
    "        output_layer=self.acti_funs[-1](self.weights[-1].dot(input_layer)+self.biases[-1])\n",
    "        self.output_before=(self.weights[-1].dot(input_layer)+self.biases[-1]).T\n",
    "        self.output_layer=output_layer.T\n",
    "        \n",
    "        return(output_layer.T)\n",
    "        \n",
    "    def train(self,train_input_layer,train_output_layer,max_epoch=2000,rate=0.1,beta=0,batch=1,stop=10**-6,RMSprop=False,L1=False,L2=False,eps=10**-8,alpha=0.01,\n",
    "              validate=False,early_stop=3,test_input_layer=0,test_output_layer=0,return_error_list=True,return_gradients=False,Verbose=True):\n",
    "    \n",
    "        #creating batches\n",
    "        lin=np.linspace(0,train_input_layer.shape[0],int(1/batch)+1).round().astype(int)\n",
    "        #initiating errors\n",
    "        output_layer=self.calculate(train_input_layer)\n",
    "        error=self.cost_fun(train_output_layer,output_layer)\n",
    "        #initiating early stopping\n",
    "        warning=0\n",
    "        if validate:\n",
    "            output_layer=self.calculate(test_input_layer)\n",
    "            error_test=self.cost_fun(test_output_layer,output_layer)\n",
    "        \n",
    "        print(\"start error \"+str(error))\n",
    "        #initiating old gradient list\n",
    "        old_grad=[[0]*(len(lin)-1) for x in range(len(self.weights))]\n",
    "        old_grad_bias=[[0]*(len(lin)-1) for x in range(len(self.weights))]\n",
    "        error_list=[error]\n",
    "        \n",
    "        \n",
    "        for epoch in range(1,max_epoch+1):\n",
    "            \n",
    "            for b in range(len(lin)-1):\n",
    "\n",
    "                input_layer=train_input_layer[lin[b]:lin[b+1]]\n",
    "                output_layer=self.calculate(input_layer,memory=True)\n",
    "                \n",
    "                batch_size=output_layer.shape[0]\n",
    "                errors=[[0]*len(self.weights) for x in range(batch_size)]\n",
    "                \n",
    "                #backpropagate errors\n",
    "                for x in range(batch_size):\n",
    "                    #all cost funs should be independent from size of vectors because we rescale them later\n",
    "                    #last acti fun is used at output_layer so for classification it should be softmax and for regresion identity\n",
    "                    errors[x][-1]=((self.cost_fun_grad(train_output_layer[lin[b]:lin[b+1]][x:x+1],output_layer[x:x+1]))*self.acti_funs_grad[-1](self.output_before[x:x+1])).T\n",
    "                    for i in range(len(self.weights)-2,-1,-1): \n",
    "                        errors[x][i]=self.weights[i+1].T.dot(errors[x][i+1])*self.acti_funs_grad[i](self.hidden_layers[i][:,x:x+1])\n",
    "                \n",
    "                #calculate gradients\n",
    "                for l in range(1,len(self.weights)):\n",
    "                    #we rescale by batch size here\n",
    "                    #new_grad=np.clip(new_grad,-10**6,10**6) is used to prevent weights exploding\n",
    "                    #we update grads beta here is momentum\n",
    "                    if(RMSprop):\n",
    "                        new_grad=sum([errors[x][l].dot(self.acti_funs[l-1](self.hidden_layers[l-1][:,x:x+1]).T) for x in range(batch_size)])/batch_size\n",
    "                        new_grad=np.clip(new_grad,-10**6,10**6)\n",
    "                        #regularization\n",
    "                        if L1:\n",
    "                            new_grad+=alpha*np.sign(self.weights[l])#/batch_size\n",
    "                        elif L2:\n",
    "                            new_grad+=alpha*self.weights[l]#/batch_size\n",
    "                        #updating gradients\n",
    "                        old_grad[l][b]=beta*old_grad[l][b]+(1-beta)*new_grad**2\n",
    "                        self.weights[l]=self.weights[l]-new_grad*(rate/(np.sqrt(old_grad[l][b])+eps))\n",
    "\n",
    "                        new_grad_bias=sum([errors[x][l] for x in range(batch_size)])/batch_size\n",
    "                        new_grad=np.clip(new_grad,-10**6,10**6)\n",
    "                        old_grad_bias[l][b]=beta*old_grad_bias[l][b]+(1-beta)*new_grad_bias**2\n",
    "                        self.biases[l]=self.biases[l]-new_grad_bias*(rate/(np.sqrt(old_grad_bias[l][b])+eps))\n",
    "                    else:\n",
    "                        new_grad=sum([errors[x][l].dot(self.acti_funs[l-1](self.hidden_layers[l-1][:,x:x+1]).T) for x in range(batch_size)])/batch_size\n",
    "                        new_grad=np.clip(new_grad,-10**6,10**6)\n",
    "                        if L1:\n",
    "                            new_grad+=alpha*np.sign(self.weights[l])#/batch_size\n",
    "                        elif L2:\n",
    "                            new_grad+=alpha*self.weights[l]#/batch_size\n",
    "                        new_grad=beta*old_grad[l][b]+(1-beta)*new_grad\n",
    "                        old_grad[l][b]=new_grad\n",
    "                        self.weights[l]=self.weights[l]-new_grad*rate\n",
    "\n",
    "                        new_grad_bias=sum([errors[x][l] for x in range(batch_size)])/batch_size\n",
    "                        new_grad_bias=np.clip(new_grad_bias,-10**6,10**6)\n",
    "                        new_grad_bias=beta*old_grad_bias[l][b]+(1-beta)*new_grad_bias\n",
    "                        old_grad_bias[l][b]=new_grad_bias\n",
    "                        self.biases[l]=self.biases[l]-new_grad_bias*rate\n",
    "                \n",
    "                #calculate gradient for input layer\n",
    "                if(RMSprop):\n",
    "                    new_grad=sum([errors[x][0].dot((self.input_layer.T[:,x:x+1]).T) for x in range(batch_size)])/batch_size\n",
    "                    new_grad=np.clip(new_grad,-10**6,10**6)\n",
    "                    if L1:\n",
    "                        new_grad+=alpha*np.sign(self.weights[0])#/batch_size\n",
    "                    elif L2:\n",
    "                        new_grad+=alpha*self.weights[0]#/batch_size\n",
    "                    old_grad[0][b]=beta*old_grad[0][b]+(1-beta)*new_grad**2\n",
    "                    self.weights[0]=self.weights[0]-new_grad*(rate/(np.sqrt(old_grad[0][b])+eps))\n",
    "\n",
    "                    new_grad_bias=sum([errors[x][0] for x in range(batch_size)])/batch_size\n",
    "                    new_grad_bias=np.clip(new_grad_bias,-10**6,10**6)\n",
    "                    old_grad_bias[0][b]=beta*old_grad_bias[0][b]+(1-beta)*new_grad_bias**2\n",
    "                    self.biases[0]=self.biases[0]-new_grad_bias*(rate/(np.sqrt(old_grad_bias[0][b])+eps))\n",
    "                else:\n",
    "                    new_grad=sum([errors[x][0].dot((self.input_layer.T[:,x:x+1]).T) for x in range(batch_size)])/batch_size\n",
    "                    new_grad=np.clip(new_grad,-10**6,10**6)\n",
    "                    if L1:\n",
    "                        new_grad+=alpha*np.sign(self.weights[0])#/batch_size\n",
    "                    elif L2:\n",
    "                        new_grad+=alpha*self.weights[0]#/batch_size\n",
    "                    new_grad=beta*old_grad[0][b]+(1-beta)*new_grad\n",
    "                    old_grad[0][b]=new_grad\n",
    "                    self.weights[0]=self.weights[0]-new_grad*rate\n",
    "\n",
    "                    new_grad_bias=sum([errors[x][0] for x in range(batch_size)])/batch_size\n",
    "                    new_grad_bias=np.clip(new_grad_bias,-10**6,10**6)\n",
    "                    new_grad_bias=beta*old_grad_bias[0][b]+(1-beta)*new_grad_bias\n",
    "                    old_grad_bias[0][b]=new_grad_bias\n",
    "                    self.biases[0]=self.biases[0]-new_grad_bias*rate\n",
    "\n",
    "\n",
    "            output_layer=self.calculate(train_input_layer)\n",
    "            new_error=self.cost_fun(train_output_layer,output_layer)\n",
    "            \n",
    "            #check stopping conditions if worse early_stop a row then stop\n",
    "            if validate:\n",
    "                output_layer=self.calculate(test_input_layer)\n",
    "                new_error_test=self.cost_fun(test_output_layer,output_layer)\n",
    "                if new_error_test>error_test:\n",
    "                    if warning>=early_stop:\n",
    "                        break\n",
    "                    else:\n",
    "                        error_test=new_error_test\n",
    "                        warning+=1\n",
    "                else:\n",
    "                    error_test=new_error_test\n",
    "                    warning=0\n",
    "                \n",
    "            if return_error_list:\n",
    "                error_list.append(new_error)\n",
    "            \n",
    "            if(epoch % 100 == 0 and Verbose):\n",
    "                print(\"epoch \"+str(epoch))\n",
    "                \n",
    "            if new_error<=0:\n",
    "                break\n",
    "            \n",
    "            if ((abs(new_error-error)/error)<stop).all():\n",
    "                break\n",
    "\n",
    "            error=new_error\n",
    "        \n",
    "        print(\"end in epoch \"+str(epoch)+ \" with error \"+str(new_error))\n",
    "        if return_error_list:\n",
    "            return error_list\n",
    "        elif return_gradients:\n",
    "            return old_grad, old_grad_bias\n",
    "        else:\n",
    "            return new_error"
   ]
  },
  {
   "cell_type": "code",
   "execution_count": 5,
   "metadata": {},
   "outputs": [],
   "source": [
    "def softmax(z):\n",
    "    e = np.exp(z)\n",
    "    return e / np.sum(e, axis=0,keepdims=True)"
   ]
  },
  {
   "cell_type": "code",
   "execution_count": 6,
   "metadata": {},
   "outputs": [],
   "source": [
    "def softmax_grad(s):\n",
    "    s=softmax(s.T)\n",
    "    return (s*(1-s)).T   "
   ]
  },
  {
   "cell_type": "code",
   "execution_count": 7,
   "metadata": {},
   "outputs": [],
   "source": [
    "def ReLU(x):\n",
    "    return x * (x > 0)"
   ]
  },
  {
   "cell_type": "code",
   "execution_count": 8,
   "metadata": {},
   "outputs": [],
   "source": [
    "def ReLU_grad(x):\n",
    "    return 1. * (x > 0)"
   ]
  },
  {
   "cell_type": "code",
   "execution_count": 9,
   "metadata": {},
   "outputs": [],
   "source": [
    "def tanh(z):\n",
    "    e = np.exp(2*z)\n",
    "    return 1-2/(e+1)"
   ]
  },
  {
   "cell_type": "code",
   "execution_count": 10,
   "metadata": {},
   "outputs": [],
   "source": [
    "def tanh_grad(z):\n",
    "    return 1-tanh(z)**2"
   ]
  },
  {
   "cell_type": "code",
   "execution_count": 11,
   "metadata": {},
   "outputs": [],
   "source": [
    "def MSE(Y,Y_hat):\n",
    "    return np.sum((Y-Y_hat)**2)"
   ]
  },
  {
   "cell_type": "code",
   "execution_count": 12,
   "metadata": {},
   "outputs": [],
   "source": [
    "def MSE_grad(Y,Y_hat):\n",
    "     return Y_hat-Y"
   ]
  },
  {
   "cell_type": "code",
   "execution_count": 13,
   "metadata": {},
   "outputs": [],
   "source": [
    "def MAE(Y,Y_hat):\n",
    "    return np.sum(np.abs(Y-Y_hat))"
   ]
  },
  {
   "cell_type": "code",
   "execution_count": 14,
   "metadata": {},
   "outputs": [],
   "source": [
    "def MAE_grad(Y,Y_hat):\n",
    "    return (Y_hat>=Y)*2-1"
   ]
  },
  {
   "cell_type": "code",
   "execution_count": 15,
   "metadata": {},
   "outputs": [],
   "source": [
    "def sigmoid(x):\n",
    "    return(1/(1 + np.exp(-x)))"
   ]
  },
  {
   "cell_type": "code",
   "execution_count": 16,
   "metadata": {},
   "outputs": [],
   "source": [
    "def sigmoid_grad(x):\n",
    "    return(sigmoid(x)*(1-sigmoid(x)))"
   ]
  },
  {
   "cell_type": "code",
   "execution_count": 17,
   "metadata": {},
   "outputs": [],
   "source": [
    "def cross_entropy(targets,predictions,  epsilon=1e-12):\n",
    "    predictions = np.clip(predictions, epsilon, 1. - epsilon)\n",
    "    ce = abs(np.sum(targets*np.log(predictions)))\n",
    "    return ce\n"
   ]
  },
  {
   "cell_type": "code",
   "execution_count": 18,
   "metadata": {},
   "outputs": [],
   "source": [
    "def cross_entropy_grad(Y,Y_hat,eps=10**-10):\n",
    "    Y_hat=Y_hat+eps\n",
    "    return (Y_hat-eps-Y)/Y_hat/(1-Y_hat)"
   ]
  },
  {
   "cell_type": "code",
   "execution_count": 19,
   "metadata": {},
   "outputs": [],
   "source": [
    "def identity(x):\n",
    "    return x"
   ]
  },
  {
   "cell_type": "code",
   "execution_count": 20,
   "metadata": {},
   "outputs": [],
   "source": [
    "def identity_grad(x):\n",
    "    return 1"
   ]
  },
  {
   "cell_type": "markdown",
   "metadata": {},
   "source": [
    "# MNIST"
   ]
  },
  {
   "cell_type": "code",
   "execution_count": 21,
   "metadata": {},
   "outputs": [],
   "source": [
    "from sklearn.decomposition import PCA"
   ]
  },
  {
   "cell_type": "code",
   "execution_count": 230,
   "metadata": {},
   "outputs": [],
   "source": [
    "test = np.loadtxt(\"MNIST/train.csv\", delimiter=',', skiprows=1, usecols=range(0,785))\n",
    "np.random.shuffle(test)\n",
    "X=test[:,1:785]\n",
    "Y=test[:,0:1]\n",
    "Y=Y==np.unique(Y)\n",
    "Y=np.array(Y,dtype=int)\n",
    "train_input_layer=X/255\n",
    "train_output_layer=Y"
   ]
  },
  {
   "cell_type": "code",
   "execution_count": 231,
   "metadata": {},
   "outputs": [],
   "source": [
    "test = np.loadtxt(\"MNIST/test.csv\", delimiter=',', skiprows=1, usecols=range(0,784))\n",
    "np.random.shuffle(test)\n",
    "X1=test[:,0:784]\n",
    "test_input_layer=X1/255"
   ]
  },
  {
   "cell_type": "code",
   "execution_count": 232,
   "metadata": {},
   "outputs": [],
   "source": [
    "L=[64,64]\n",
    "mlp_test2=MLP_new(784,10,L,[tanh]*len(L),[tanh_grad]*len(L),cross_entropy,cross_entropy_grad,problem=\"C\",seed=123)"
   ]
  },
  {
   "cell_type": "code",
   "execution_count": 233,
   "metadata": {},
   "outputs": [
    {
     "name": "stdout",
     "output_type": "stream",
     "text": [
      "start error 263535.401168552\n",
      "epoch 100\n",
      "epoch 200\n",
      "epoch 300\n",
      "epoch 400\n",
      "epoch 500\n",
      "epoch 600\n",
      "epoch 700\n",
      "epoch 800\n",
      "epoch 900\n",
      "epoch 1000\n",
      "epoch 1100\n",
      "epoch 1200\n",
      "end in epoch 1200 with error 2845.0182058937567\n",
      "195 minutes\n",
      "accuracy_train 0.984\n"
     ]
    },
    {
     "ename": "ValueError",
     "evalue": "shapes (64,784) and (300,21000) not aligned: 784 (dim 1) != 300 (dim 0)",
     "output_type": "error",
     "traceback": [
      "\u001b[0;31m---------------------------------------------------------------------------\u001b[0m",
      "\u001b[0;31mValueError\u001b[0m                                Traceback (most recent call last)",
      "\u001b[0;32m<ipython-input-233-87b30e28c7b2>\u001b[0m in \u001b[0;36m<module>\u001b[0;34m\u001b[0m\n\u001b[1;32m     11\u001b[0m \u001b[0mprint\u001b[0m\u001b[0;34m(\u001b[0m\u001b[0;34m\"accuracy_train \"\u001b[0m\u001b[0;34m+\u001b[0m\u001b[0mstr\u001b[0m\u001b[0;34m(\u001b[0m\u001b[0maccuracy_train\u001b[0m\u001b[0;34m)\u001b[0m\u001b[0;34m)\u001b[0m\u001b[0;34m\u001b[0m\u001b[0;34m\u001b[0m\u001b[0m\n\u001b[1;32m     12\u001b[0m \u001b[0;34m\u001b[0m\u001b[0m\n\u001b[0;32m---> 13\u001b[0;31m \u001b[0moutput_layer\u001b[0m\u001b[0;34m=\u001b[0m\u001b[0mmlp_test2\u001b[0m\u001b[0;34m.\u001b[0m\u001b[0mcalculate\u001b[0m\u001b[0;34m(\u001b[0m\u001b[0mvalidate_input\u001b[0m\u001b[0;34m)\u001b[0m\u001b[0;34m\u001b[0m\u001b[0;34m\u001b[0m\u001b[0m\n\u001b[0m\u001b[1;32m     14\u001b[0m \u001b[0mscore_validate\u001b[0m\u001b[0;34m=\u001b[0m\u001b[0mcross_entropy\u001b[0m\u001b[0;34m(\u001b[0m\u001b[0mvalidate_output\u001b[0m\u001b[0;34m,\u001b[0m\u001b[0moutput_layer\u001b[0m\u001b[0;34m)\u001b[0m\u001b[0;34m/\u001b[0m\u001b[0moutput_layer\u001b[0m\u001b[0;34m.\u001b[0m\u001b[0mshape\u001b[0m\u001b[0;34m[\u001b[0m\u001b[0;36m0\u001b[0m\u001b[0;34m]\u001b[0m\u001b[0;34m\u001b[0m\u001b[0;34m\u001b[0m\u001b[0m\n\u001b[1;32m     15\u001b[0m \u001b[0;34m\u001b[0m\u001b[0m\n",
      "\u001b[0;32m<ipython-input-62-09a12511d76e>\u001b[0m in \u001b[0;36mcalculate\u001b[0;34m(self, input_layer, memory)\u001b[0m\n\u001b[1;32m     60\u001b[0m         \u001b[0;32melse\u001b[0m\u001b[0;34m:\u001b[0m\u001b[0;34m\u001b[0m\u001b[0;34m\u001b[0m\u001b[0m\n\u001b[1;32m     61\u001b[0m             \u001b[0;32mfor\u001b[0m \u001b[0mi\u001b[0m \u001b[0;32min\u001b[0m \u001b[0mrange\u001b[0m\u001b[0;34m(\u001b[0m\u001b[0mlen\u001b[0m\u001b[0;34m(\u001b[0m\u001b[0mself\u001b[0m\u001b[0;34m.\u001b[0m\u001b[0mweights\u001b[0m\u001b[0;34m)\u001b[0m\u001b[0;34m-\u001b[0m\u001b[0;36m1\u001b[0m\u001b[0;34m)\u001b[0m\u001b[0;34m:\u001b[0m\u001b[0;34m\u001b[0m\u001b[0;34m\u001b[0m\u001b[0m\n\u001b[0;32m---> 62\u001b[0;31m                 \u001b[0minput_layer\u001b[0m\u001b[0;34m=\u001b[0m\u001b[0mself\u001b[0m\u001b[0;34m.\u001b[0m\u001b[0macti_funs\u001b[0m\u001b[0;34m[\u001b[0m\u001b[0mi\u001b[0m\u001b[0;34m]\u001b[0m\u001b[0;34m(\u001b[0m\u001b[0mself\u001b[0m\u001b[0;34m.\u001b[0m\u001b[0mweights\u001b[0m\u001b[0;34m[\u001b[0m\u001b[0mi\u001b[0m\u001b[0;34m]\u001b[0m\u001b[0;34m.\u001b[0m\u001b[0mdot\u001b[0m\u001b[0;34m(\u001b[0m\u001b[0minput_layer\u001b[0m\u001b[0;34m)\u001b[0m\u001b[0;34m+\u001b[0m\u001b[0mself\u001b[0m\u001b[0;34m.\u001b[0m\u001b[0mbiases\u001b[0m\u001b[0;34m[\u001b[0m\u001b[0mi\u001b[0m\u001b[0;34m]\u001b[0m\u001b[0;34m)\u001b[0m\u001b[0;34m\u001b[0m\u001b[0;34m\u001b[0m\u001b[0m\n\u001b[0m\u001b[1;32m     63\u001b[0m \u001b[0;34m\u001b[0m\u001b[0m\n\u001b[1;32m     64\u001b[0m \u001b[0;34m\u001b[0m\u001b[0m\n",
      "\u001b[0;31mValueError\u001b[0m: shapes (64,784) and (300,21000) not aligned: 784 (dim 1) != 300 (dim 0)"
     ]
    }
   ],
   "source": [
    "start_time = time.time()\n",
    "er=mlp_test2.train(train_input_layer,train_output_layer,max_epoch=1200,Verbose=True,beta=0.9,batch=0.05)\n",
    "end_time = time.time()\n",
    "t=end_time - start_time\n",
    "print(str(round(t/60))+\" minutes\")\n",
    "    \n",
    "output_layer=mlp_test2.calculate(train_input_layer)\n",
    "score_train=cross_entropy(train_output_layer,output_layer)/output_layer.shape[0]\n",
    "\n",
    "accuracy_train=round(np.mean(np.argmax(train_output_layer,axis=1)==np.argmax(output_layer,axis=1)),3)\n",
    "print(\"accuracy_train \"+str(accuracy_train))\n",
    "\n",
    "output_layer=mlp_test2.calculate(test_input_layer)"
   ]
  },
  {
   "cell_type": "code",
   "execution_count": 240,
   "metadata": {},
   "outputs": [],
   "source": [
    "output_layer=mlp_test2.calculate(test_input_layer)"
   ]
  },
  {
   "cell_type": "code",
   "execution_count": 225,
   "metadata": {},
   "outputs": [
    {
     "data": {
      "text/plain": [
       "<matplotlib.image.AxesImage at 0x7f9645984a60>"
      ]
     },
     "execution_count": 225,
     "metadata": {},
     "output_type": "execute_result"
    },
    {
     "data": {
      "image/png": "[encoded data removed]",
      "text/plain": [
       "<Figure size 432x288 with 1 Axes>"
      ]
     },
     "metadata": {
      "needs_background": "light"
     },
     "output_type": "display_data"
    }
   ],
   "source": [
    "plt.imshow(np.array(X[1,:]).reshape(28,28),cmap='gray')"
   ]
  },
  {
   "cell_type": "markdown",
   "metadata": {},
   "source": [
    "# PCA to save time Validation and L2 to prevent overfitting"
   ]
  },
  {
   "cell_type": "code",
   "execution_count": 22,
   "metadata": {},
   "outputs": [],
   "source": [
    "test = np.loadtxt(\"MNIST/train.csv\", delimiter=',', skiprows=1)\n",
    "np.random.seed(123)\n",
    "np.random.shuffle(test)\n",
    "X=test[:,1:]\n",
    "Y=test[:,0:1]\n",
    "Y=Y==np.unique(Y)\n",
    "Y=np.array(Y,dtype=int)\n",
    "X=X/255\n",
    "pca=PCA(n_components=300)\n",
    "pca=pca.fit(X)\n",
    "train_input_layer=pca.transform(X[::2,:])\n",
    "train_output_layer=Y[::2,:]\n",
    "validate_input=pca.transform(X[1::2,:])\n",
    "validate_output=Y[1::2,:]"
   ]
  },
  {
   "cell_type": "code",
   "execution_count": 23,
   "metadata": {},
   "outputs": [],
   "source": [
    "test = np.loadtxt(\"MNIST/test.csv\", delimiter=',', skiprows=1)\n",
    "X1=test\n",
    "test_input_layer=X1/255\n",
    "test_input_layer=pca.transform(test_input_layer)"
   ]
  },
  {
   "cell_type": "code",
   "execution_count": 24,
   "metadata": {},
   "outputs": [],
   "source": [
    "L=[64,64]\n",
    "mlp_test=MLP_new(300,10,L,[tanh]*len(L),[tanh_grad]*len(L),cross_entropy,cross_entropy_grad,problem=\"C\",seed=123)"
   ]
  },
  {
   "cell_type": "code",
   "execution_count": 25,
   "metadata": {},
   "outputs": [
    {
     "name": "stdout",
     "output_type": "stream",
     "text": [
      "start error 148944.94132982014\n",
      "epoch 100\n",
      "epoch 200\n",
      "epoch 300\n",
      "epoch 400\n",
      "epoch 500\n",
      "epoch 600\n",
      "epoch 700\n",
      "epoch 800\n",
      "epoch 900\n",
      "epoch 1000\n",
      "epoch 1100\n",
      "epoch 1200\n",
      "end in epoch 1200 with error 4881.672218677337\n",
      "45 minutes\n",
      "accuracy_train 0.945\n",
      "accuracy_validate 0.934\n"
     ]
    }
   ],
   "source": [
    "start_time = time.time()\n",
    "er=mlp_test.train(train_input_layer,train_output_layer,max_epoch=1200,Verbose=True,beta=0.9,batch=0.05,validate=True, early_stop=10, test_input_layer=validate_input,test_output_layer=validate_output,L2=True,alpha=0.01)\n",
    "end_time = time.time()\n",
    "t=end_time - start_time\n",
    "print(str(round(t/60))+\" minutes\")\n",
    "    \n",
    "output_layer=mlp_test.calculate(train_input_layer)\n",
    "score_train=cross_entropy(train_output_layer,output_layer)/output_layer.shape[0]\n",
    "\n",
    "accuracy_train=round(np.mean(np.argmax(train_output_layer,axis=1)==np.argmax(output_layer,axis=1)),3)\n",
    "print(\"accuracy_train \"+str(accuracy_train))\n",
    "\n",
    "output_layer=mlp_test.calculate(validate_input)\n",
    "score_validate=cross_entropy(validate_output,output_layer)/output_layer.shape[0]\n",
    "\n",
    "accuracy_validate=round(np.mean(np.argmax(validate_output,axis=1)==np.argmax(output_layer,axis=1)),3)\n",
    "print(\"accuracy_validate \"+str(accuracy_validate))\n",
    "\n",
    "output_layer=mlp_test.calculate(test_input_layer)"
   ]
  },
  {
   "cell_type": "code",
   "execution_count": 28,
   "metadata": {},
   "outputs": [
    {
     "data": {
      "text/plain": [
       "0.23246058184177795"
      ]
     },
     "execution_count": 28,
     "metadata": {},
     "output_type": "execute_result"
    }
   ],
   "source": [
    "score_train"
   ]
  },
  {
   "cell_type": "code",
   "execution_count": 27,
   "metadata": {},
   "outputs": [
    {
     "data": {
      "text/plain": [
       "0.26175895548278344"
      ]
     },
     "execution_count": 27,
     "metadata": {},
     "output_type": "execute_result"
    }
   ],
   "source": [
    "score_validate"
   ]
  },
  {
   "cell_type": "code",
   "execution_count": 26,
   "metadata": {},
   "outputs": [],
   "source": [
    "np.savetxt(\"hidden1\",mlp_test.hidden_layers[0])\n",
    "np.savetxt(\"hidden2\",mlp_test.hidden_layers[1])\n",
    "np.savetxt(\"bias1\",mlp_test.biases[0])\n",
    "np.savetxt(\"bias2\",mlp_test.biases[1])"
   ]
  },
  {
   "cell_type": "code",
   "execution_count": 241,
   "metadata": {},
   "outputs": [],
   "source": [
    "df = pd.DataFrame(\n",
    "{\"ImageId\" : np.arange(1,output_layer.shape[0]+1),\n",
    "\"Label\" : np.argmax(output_layer,axis=1)},\n",
    "index = None)"
   ]
  },
  {
   "cell_type": "code",
   "execution_count": 242,
   "metadata": {},
   "outputs": [],
   "source": [
    "df.to_csv(\"submition3.csv\",sep=\",\",index=False)"
   ]
  },
  {
   "cell_type": "code",
   "execution_count": 146,
   "metadata": {},
   "outputs": [
    {
     "data": {
      "text/plain": [
       "<AxesSubplot:ylabel='Frequency'>"
      ]
     },
     "execution_count": 146,
     "metadata": {},
     "output_type": "execute_result"
    },
    {
     "data": {
      "image/png": "[encoded data removed]",
      "text/plain": [
       "<Figure size 432x288 with 1 Axes>"
      ]
     },
     "metadata": {
      "needs_background": "light"
     },
     "output_type": "display_data"
    }
   ],
   "source": [
    "df.Label.plot.hist()"
   ]
  },
  {
   "cell_type": "code",
   "execution_count": null,
   "metadata": {},
   "outputs": [],
   "source": []
  }
 ],
 "metadata": {
  "kernelspec": {
   "display_name": "Python 3",
   "language": "python",
   "name": "python3"
  },
  "language_info": {
   "codemirror_mode": {
    "name": "ipython",
    "version": 3
   },
   "file_extension": ".py",
   "mimetype": "text/x-python",
   "name": "python",
   "nbconvert_exporter": "python",
   "pygments_lexer": "ipython3",
   "version": "3.8.5"
  }
 },
 "nbformat": 4,
 "nbformat_minor": 4
}
