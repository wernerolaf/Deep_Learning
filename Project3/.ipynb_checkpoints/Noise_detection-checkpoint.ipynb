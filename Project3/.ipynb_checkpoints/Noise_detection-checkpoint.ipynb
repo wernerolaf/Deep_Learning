{
 "cells": [
  {
   "cell_type": "code",
   "execution_count": 1,
   "metadata": {},
   "outputs": [],
   "source": [
    "from time import time\n",
    "import numpy as np\n",
    "from sklearn.model_selection import train_test_split\n",
    "import matplotlib.pyplot as plt\n",
    "%matplotlib inline\n",
    "from keras import regularizers\n",
    "import tensorflow as tf\n",
    "import keras\n",
    "import pandas as pd\n",
    "from sklearn import preprocessing"
   ]
  },
  {
   "cell_type": "code",
   "execution_count": null,
   "metadata": {},
   "outputs": [],
   "source": [
    "X_all=np.load(\"train/train_gray.npy\")"
   ]
  },
  {
   "cell_type": "code",
   "execution_count": 3,
   "metadata": {},
   "outputs": [],
   "source": [
    "X_all = X_all.astype('float16')\n",
    "X_all = X_all/255"
   ]
  },
  {
   "cell_type": "code",
   "execution_count": 4,
   "metadata": {},
   "outputs": [],
   "source": [
    "Y_all=pd.read_csv(\"filelist.csv\",index_col=0)"
   ]
  },
  {
   "cell_type": "code",
   "execution_count": 5,
   "metadata": {},
   "outputs": [
    {
     "data": {
      "text/plain": [
       "(64721, 99, 161, 3)"
      ]
     },
     "execution_count": 5,
     "metadata": {},
     "output_type": "execute_result"
    }
   ],
   "source": [
    "X_all.shape"
   ]
  },
  {
   "cell_type": "code",
   "execution_count": 6,
   "metadata": {},
   "outputs": [
    {
     "data": {
      "text/plain": [
       "(64721, 2)"
      ]
     },
     "execution_count": 6,
     "metadata": {},
     "output_type": "execute_result"
    }
   ],
   "source": [
    "Y_all.shape"
   ]
  },
  {
   "cell_type": "code",
   "execution_count": 5,
   "metadata": {},
   "outputs": [],
   "source": [
    "test=np.loadtxt(\"testing_list.txt\",dtype=\"str\")\n",
    "\n",
    "test=np.char.replace(test,\".wav\",\"\")\n",
    "\n",
    "test=np.char.split(test,\"/\")\n",
    "\n",
    "test_name=np.array([x[1] for x in test])\n",
    "test_type=np.array([x[0] for x in test])"
   ]
  },
  {
   "cell_type": "code",
   "execution_count": 6,
   "metadata": {},
   "outputs": [],
   "source": [
    "valid=np.loadtxt(\"validation_list.txt\",dtype=\"str\")\n",
    "\n",
    "valid=np.char.replace(valid,\".wav\",\"\")\n",
    "\n",
    "valid=np.char.split(valid,\"/\")\n",
    "\n",
    "valid_name=np.array([x[1] for x in valid])\n",
    "valid_type=np.array([x[0] for x in valid])"
   ]
  },
  {
   "cell_type": "code",
   "execution_count": 7,
   "metadata": {},
   "outputs": [],
   "source": [
    "Y_all.Name=Y_all.Name.str.replace(\".png\",\"\")"
   ]
  },
  {
   "cell_type": "code",
   "execution_count": 8,
   "metadata": {},
   "outputs": [],
   "source": [
    "Y_all[\"Index\"]=Y_all.index"
   ]
  },
  {
   "cell_type": "code",
   "execution_count": 9,
   "metadata": {},
   "outputs": [],
   "source": [
    "valid=pd.DataFrame({\"Name\":valid_name,\"Type\":valid_type})"
   ]
  },
  {
   "cell_type": "code",
   "execution_count": 10,
   "metadata": {},
   "outputs": [],
   "source": [
    "test=pd.DataFrame({\"Name\":test_name,\"Type\":test_type})"
   ]
  },
  {
   "cell_type": "code",
   "execution_count": 11,
   "metadata": {},
   "outputs": [],
   "source": [
    "valid=pd.merge(Y_all,valid,on=[\"Name\",\"Type\"],how=\"right\")"
   ]
  },
  {
   "cell_type": "code",
   "execution_count": 12,
   "metadata": {},
   "outputs": [],
   "source": [
    "test=pd.merge(Y_all,test,on=[\"Name\",\"Type\"],how=\"right\")"
   ]
  },
  {
   "cell_type": "code",
   "execution_count": 13,
   "metadata": {},
   "outputs": [
    {
     "data": {
      "text/plain": [
       "False"
      ]
     },
     "execution_count": 13,
     "metadata": {},
     "output_type": "execute_result"
    }
   ],
   "source": [
    "test.Index.isna().any()"
   ]
  },
  {
   "cell_type": "code",
   "execution_count": 14,
   "metadata": {},
   "outputs": [
    {
     "data": {
      "text/plain": [
       "False"
      ]
     },
     "execution_count": 14,
     "metadata": {},
     "output_type": "execute_result"
    }
   ],
   "source": [
    "valid.Index.isna().any()"
   ]
  },
  {
   "cell_type": "code",
   "execution_count": 15,
   "metadata": {},
   "outputs": [],
   "source": [
    "valid_norm=X_all[valid.Index]"
   ]
  },
  {
   "cell_type": "code",
   "execution_count": 16,
   "metadata": {},
   "outputs": [],
   "source": [
    "y_val=Y_all.iloc[valid.Index].Type.to_numpy()"
   ]
  },
  {
   "cell_type": "code",
   "execution_count": 17,
   "metadata": {},
   "outputs": [],
   "source": [
    "test_norm=X_all[test.Index]"
   ]
  },
  {
   "cell_type": "code",
   "execution_count": 18,
   "metadata": {},
   "outputs": [],
   "source": [
    "y_test=Y_all.iloc[test.Index].Type.to_numpy()"
   ]
  },
  {
   "cell_type": "code",
   "execution_count": 19,
   "metadata": {},
   "outputs": [],
   "source": [
    "Y_all=Y_all[~Y_all.Index.isin(valid.Index)]\n",
    "Y_all=Y_all[~Y_all.Index.isin(test.Index)]"
   ]
  },
  {
   "cell_type": "code",
   "execution_count": 20,
   "metadata": {},
   "outputs": [],
   "source": [
    "x_train=X_all[Y_all.Index]"
   ]
  },
  {
   "cell_type": "code",
   "execution_count": 21,
   "metadata": {},
   "outputs": [],
   "source": [
    "y_train=Y_all.Type.to_numpy()"
   ]
  },
  {
   "cell_type": "code",
   "execution_count": 22,
   "metadata": {},
   "outputs": [],
   "source": [
    "classes=np.unique(y_train)"
   ]
  },
  {
   "cell_type": "code",
   "execution_count": 23,
   "metadata": {},
   "outputs": [],
   "source": [
    "del X_all"
   ]
  },
  {
   "cell_type": "code",
   "execution_count": 24,
   "metadata": {},
   "outputs": [],
   "source": [
    "del Y_all"
   ]
  },
  {
   "cell_type": "code",
   "execution_count": 25,
   "metadata": {},
   "outputs": [],
   "source": [
    "pre = preprocessing.LabelEncoder()\n",
    "pre.fit(y_train)\n",
    "y_train = pre.transform(y_train)\n",
    "y_val = pre.transform(y_val)\n",
    "y_test = pre.transform(y_test)"
   ]
  },
  {
   "cell_type": "markdown",
   "metadata": {},
   "source": [
    "# Model"
   ]
  },
  {
   "cell_type": "code",
   "execution_count": 26,
   "metadata": {},
   "outputs": [],
   "source": [
    "width_factor=1\n",
    "weight_decay = 1e-4\n",
    "model = tf.keras.models.Sequential()\n",
    "\n",
    "model.add(tf.keras.layers.Conv2D(32*width_factor, (3,3), padding='same', kernel_regularizer=regularizers.l2(weight_decay), input_shape=(99,161,3)))\n",
    "model.add(tf.keras.layers.Activation('relu'))\n",
    "model.add(tf.keras.layers.BatchNormalization())\n",
    "model.add(tf.keras.layers.Conv2D(32*width_factor, (3,3), padding='same', kernel_regularizer=regularizers.l2(weight_decay)))\n",
    "model.add(tf.keras.layers.Activation('relu'))\n",
    "model.add(tf.keras.layers.BatchNormalization())\n",
    "model.add(tf.keras.layers.MaxPooling2D(pool_size=(2,2)))\n",
    "model.add(tf.keras.layers.Dropout(0.3))\n",
    "\n",
    "model.add(tf.keras.layers.Conv2D(64*width_factor, (3,3), padding='same', kernel_regularizer=regularizers.l2(weight_decay)))\n",
    "model.add(tf.keras.layers.Activation('relu'))\n",
    "model.add(tf.keras.layers.BatchNormalization())\n",
    "model.add(tf.keras.layers.Conv2D(64*width_factor, (3,3), padding='same', kernel_regularizer=regularizers.l2(weight_decay)))\n",
    "model.add(tf.keras.layers.Activation('relu'))\n",
    "model.add(tf.keras.layers.BatchNormalization())\n",
    "model.add(tf.keras.layers.MaxPooling2D(pool_size=(2,2)))\n",
    "model.add(tf.keras.layers.Dropout(0.3))\n",
    "\n",
    "model.add(tf.keras.layers.Flatten())\n",
    "model.add(tf.keras.layers.Dense(64*width_factor, activation='relu'))\n",
    "model.add(tf.keras.layers.Dropout(0.3))\n",
    "model.add(tf.keras.layers.Dense(30, activation='softmax'))"
   ]
  },
  {
   "cell_type": "code",
   "execution_count": 28,
   "metadata": {},
   "outputs": [],
   "source": [
    "width_factor=1\n",
    "weight_decay = 1e-4\n",
    "model = tf.keras.models.Sequential()\n",
    "\n",
    "model.add(tf.keras.layers.LSTM(16))\n",
    "\n",
    "model.add(tf.keras.layers.Flatten())\n",
    "model.add(tf.keras.layers.Dense(64*width_factor, activation='relu'))\n",
    "model.add(tf.keras.layers.Dropout(0.3))\n",
    "model.add(tf.keras.layers.Dense(30, activation='softmax'))"
   ]
  },
  {
   "cell_type": "code",
   "execution_count": 29,
   "metadata": {},
   "outputs": [],
   "source": [
    "model.compile(\n",
    "    optimizer=keras.optimizers.Adam(lr=0.001),\n",
    "    loss=\"sparse_categorical_crossentropy\",\n",
    "    metrics=[keras.metrics.SparseCategoricalAccuracy(name=\"acc\")],\n",
    ")"
   ]
  },
  {
   "cell_type": "code",
   "execution_count": 30,
   "metadata": {},
   "outputs": [],
   "source": [
    "#train_datagen = tf.keras.preprocessing.image.ImageDataGenerator()\n",
    "#train_datagen.fit(x_train)"
   ]
  },
  {
   "cell_type": "code",
   "execution_count": 31,
   "metadata": {},
   "outputs": [],
   "source": [
    "#start=time()\n",
    "#history=model.fit(train_datagen.flow(x_train, y_train, batch_size=64, seed=123),\n",
    "#          steps_per_epoch=len(x_train) / 64, epochs=2, validation_data=(valid_norm, y_val))\n",
    "#end=time()"
   ]
  },
  {
   "cell_type": "code",
   "execution_count": null,
   "metadata": {},
   "outputs": [],
   "source": [
    "start=time()\n",
    "history=model.fit(x=x_train,y=y_train,batch_size=64,\n",
    "          steps_per_epoch=len(x_train) / 64, epochs=2, validation_data=(valid_norm, y_val))\n",
    "end=time()"
   ]
  },
  {
   "cell_type": "code",
   "execution_count": null,
   "metadata": {},
   "outputs": [],
   "source": [
    "print((end-start)//60)\n",
    "\n",
    "acc = model.evaluate(test_norm, y_test)\n",
    "\n",
    "acc"
   ]
  },
  {
   "cell_type": "code",
   "execution_count": null,
   "metadata": {},
   "outputs": [],
   "source": [
    "def plot(losses, accuracies, subplot_title,y_type):\n",
    "    fig, (ax1, ax2) = plt.subplots(1, 2, figsize=(14,4),sharey=True)\n",
    "  \n",
    "    ax1.plot(losses)\n",
    "    ax1.set_xlabel('Epochs')\n",
    "    ax1.set_ylabel(y_type)\n",
    "    \n",
    "    ax1.set_title(subplot_title[0])\n",
    "  \n",
    "    ax2.plot(accuracies)\n",
    "    ax2.set_xlabel('Epochs')\n",
    "    ax2.set_ylabel(y_type)\n",
    "    ax2.set_title(subplot_title[1])\n",
    "    \n",
    "    plt.show()\n",
    "\n",
    "# Training\n",
    "plot(history.history['loss'], \n",
    "     history.history['val_loss'], \n",
    "     subplot_title=['Training Loss', 'Validation Loss'],y_type=\"Loss\"\n",
    "    )\n",
    "\n",
    "# Validation\n",
    "plot(history.history['acc'], \n",
    "     history.history['val_acc'], \n",
    "     subplot_title=['Training Accuracy', 'Validation Accuracy'],y_type=\"Accuracy\"\n",
    "    )"
   ]
  },
  {
   "cell_type": "code",
   "execution_count": null,
   "metadata": {},
   "outputs": [],
   "source": [
    "# Save Results\n",
    "\n",
    "model_type=\"conv1\"\n",
    "\n",
    "model.save(\"model_\"+model_type)\n",
    "\n",
    "import shutil\n",
    "shutil.make_archive(\"model_\"+model_type, 'zip', \"model_\"+model_type)\n",
    "\n",
    "\n",
    "import pandas as pd\n",
    "# convert the history.history dict to a pandas DataFrame:     \n",
    "hist_df = pd.DataFrame(history.history) \n",
    "\n",
    "# or save to csv: \n",
    "hist_csv_file = 'history_'+model_type+'.csv'\n",
    "with open(hist_csv_file, mode='w') as f:\n",
    "    hist_df.to_csv(f)"
   ]
  },
  {
   "cell_type": "code",
   "execution_count": null,
   "metadata": {},
   "outputs": [],
   "source": [
    "#!cd model && 7z e my_model.zip\n",
    "\n",
    "imported = tf.keras.models.load_model(\"./model\",compile=False)\n",
    "\n",
    "import pandas as pd\n",
    "history=pd.read_csv(\"history_block4_width1_reg_full.csv\")\n",
    "\n",
    "history\n",
    "\n",
    "# Training\n",
    "plot(history['loss'], \n",
    "     history['val_loss'], \n",
    "     subplot_title=['Training Loss', 'Validation Loss'],y_type=\"Loss\"\n",
    "    )\n",
    "\n",
    "# Validation\n",
    "plot(history['acc'], \n",
    "     history['val_acc'], \n",
    "     subplot_title=['Training Accuracy', 'Validation Accuracy'],y_type=\"Accuracy\"\n",
    "    )"
   ]
  }
 ],
 "metadata": {
  "kernelspec": {
   "display_name": "Python 3",
   "language": "python",
   "name": "python3"
  },
  "language_info": {
   "codemirror_mode": {
    "name": "ipython",
    "version": 3
   },
   "file_extension": ".py",
   "mimetype": "text/x-python",
   "name": "python",
   "nbconvert_exporter": "python",
   "pygments_lexer": "ipython3",
   "version": "3.8.5"
  }
 },
 "nbformat": 4,
 "nbformat_minor": 4
}
