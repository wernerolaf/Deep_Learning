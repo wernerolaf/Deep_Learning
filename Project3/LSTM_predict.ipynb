{
  "nbformat": 4,
  "nbformat_minor": 0,
  "metadata": {
    "colab": {
      "name": "LSTM_predict.ipynb",
      "provenance": [],
      "collapsed_sections": []
    },
    "kernelspec": {
      "display_name": "Python 3",
      "language": "python",
      "name": "python3"
    },
    "language_info": {
      "codemirror_mode": {
        "name": "ipython",
        "version": 3
      },
      "file_extension": ".py",
      "mimetype": "text/x-python",
      "name": "python",
      "nbconvert_exporter": "python",
      "pygments_lexer": "ipython3",
      "version": "3.8.5"
    },
    "accelerator": "GPU"
  },
  "cells": [
    {
      "cell_type": "code",
      "metadata": {
        "id": "TK-9QVIPaQQY"
      },
      "source": [
        "import pandas as pd\n",
        "import keras\n",
        "from keras.layers import Dense, Conv2D, BatchNormalization, Activation\n",
        "from keras.layers import AveragePooling2D, Input, Flatten\n",
        "from keras.optimizers import Adam\n",
        "from keras.callbacks import ModelCheckpoint, LearningRateScheduler\n",
        "from keras.callbacks import ReduceLROnPlateau\n",
        "from keras.preprocessing.image import ImageDataGenerator\n",
        "from keras.regularizers import l2\n",
        "from keras import backend as K\n",
        "from keras.models import Model\n",
        "import numpy as np\n",
        "import os"
      ],
      "execution_count": null,
      "outputs": []
    },
    {
      "cell_type": "code",
      "metadata": {
        "colab": {
          "base_uri": "https://localhost:8080/"
        },
        "id": "WJE9nN6XLEr2",
        "outputId": "930bafb1-e2b0-457b-b6b2-56e4e560e3d0"
      },
      "source": [
        "from google.colab import drive\n",
        "drive.mount('/content/drive')"
      ],
      "execution_count": null,
      "outputs": [
        {
          "output_type": "stream",
          "text": [
            "Mounted at /content/drive\n"
          ],
          "name": "stdout"
        }
      ]
    },
    {
      "cell_type": "code",
      "metadata": {
        "id": "uiz83hFvRcBM"
      },
      "source": [
        "X_all=np.load(\"drive/MyDrive/speaker/train_gray.npy\")\n",
        "\n",
        "X_all = X_all.astype('float16')\n",
        "X_all = X_all/255\n",
        "\n",
        "Y_all=pd.read_csv(\"drive/MyDrive/speaker/filelist.csv\",index_col=0)\n",
        "\n",
        "X_all.shape\n",
        "\n",
        "Y_all.shape\n",
        "\n",
        "test=np.loadtxt(\"drive/MyDrive/speaker/testing_list.txt\",dtype=\"str\")\n",
        "\n",
        "test=np.char.replace(test,\".wav\",\"\")\n",
        "\n",
        "test=np.char.split(test,\"/\")\n",
        "\n",
        "test_name=np.array([x[1] for x in test])\n",
        "test_type=np.array([x[0] for x in test])\n",
        "\n",
        "valid=np.loadtxt(\"drive/MyDrive/speaker/validation_list.txt\",dtype=\"str\")\n",
        "\n",
        "valid=np.char.replace(valid,\".wav\",\"\")\n",
        "\n",
        "valid=np.char.split(valid,\"/\")\n",
        "\n",
        "valid_name=np.array([x[1] for x in valid])\n",
        "valid_type=np.array([x[0] for x in valid])\n",
        "\n",
        "Y_all.Name=Y_all.Name.str.replace(\".png\",\"\")\n",
        "\n",
        "Y_all[\"Index\"]=Y_all.index\n",
        "\n",
        "valid=pd.DataFrame({\"Name\":valid_name,\"Type\":valid_type})\n",
        "\n",
        "test=pd.DataFrame({\"Name\":test_name,\"Type\":test_type})\n",
        "\n",
        "valid=pd.merge(Y_all,valid,on=[\"Name\",\"Type\"],how=\"right\")\n",
        "\n",
        "test=pd.merge(Y_all,test,on=[\"Name\",\"Type\"],how=\"right\")\n",
        "\n",
        "Y_all=Y_all[~Y_all.Index.isin(valid.Index)]\n",
        "Y_all=Y_all[~Y_all.Index.isin(test.Index)]\n",
        "\n",
        "x_train=X_all[Y_all.Index]\n",
        "\n",
        "y_train=Y_all.Type.to_numpy()\n",
        "\n",
        "classes=np.unique(y_train)\n",
        "\n",
        "del X_all\n",
        "\n",
        "del Y_all"
      ],
      "execution_count": null,
      "outputs": []
    },
    {
      "cell_type": "code",
      "metadata": {
        "id": "XNnvJ_WKVaj3"
      },
      "source": [
        "commands=[\"yes\", \"no\", \"up\", \"down\", \"left\", \"right\", \"on\", \"off\", \"stop\", \"go\"]"
      ],
      "execution_count": null,
      "outputs": []
    },
    {
      "cell_type": "code",
      "metadata": {
        "id": "jnkY9TX8WGgn"
      },
      "source": [
        "y_train[np.isin(y_train,commands,invert=True)]=\"unknown\""
      ],
      "execution_count": null,
      "outputs": []
    },
    {
      "cell_type": "code",
      "metadata": {
        "colab": {
          "base_uri": "https://localhost:8080/"
        },
        "id": "l1avp3Ff5Owh",
        "outputId": "9e1e355a-3de3-4f3c-88b9-772b63e4c2a0"
      },
      "source": [
        "noise=np.load(\"drive/MyDrive/speaker/noise_aug_grey_part.npy\")\n",
        "\n",
        "noise = noise.astype('float16')\n",
        "noise = noise/255\n",
        "noise.shape"
      ],
      "execution_count": null,
      "outputs": [
        {
          "output_type": "execute_result",
          "data": {
            "text/plain": [
              "(6288, 99, 161, 1)"
            ]
          },
          "metadata": {
            "tags": []
          },
          "execution_count": 6
        }
      ]
    },
    {
      "cell_type": "code",
      "metadata": {
        "id": "kN_fm98V5WdA"
      },
      "source": [
        "#noise=noise.reshape([noise.shape[0],99,161])"
      ],
      "execution_count": null,
      "outputs": []
    },
    {
      "cell_type": "code",
      "metadata": {
        "id": "td7VPxnQ5oam"
      },
      "source": [
        "x_train=np.concatenate((x_train, noise[0::2]))"
      ],
      "execution_count": null,
      "outputs": []
    },
    {
      "cell_type": "code",
      "metadata": {
        "id": "uQ47G9t56P-6"
      },
      "source": [
        "y_train = np.concatenate((y_train,np.repeat('silence', 3, axis=0)))"
      ],
      "execution_count": null,
      "outputs": []
    },
    {
      "cell_type": "code",
      "metadata": {
        "id": "nauHjhj0SK0m"
      },
      "source": [
        "from sklearn import preprocessing\n",
        "pre = preprocessing.LabelEncoder()\n",
        "pre.fit(y_train)\n",
        "y_train = pre.transform(y_train)"
      ],
      "execution_count": null,
      "outputs": []
    },
    {
      "cell_type": "code",
      "metadata": {
        "id": "tl8-54zQixvl"
      },
      "source": [
        "subtract_pixel_mean = True"
      ],
      "execution_count": null,
      "outputs": []
    },
    {
      "cell_type": "code",
      "metadata": {
        "id": "f3ZehYVarJh-"
      },
      "source": [
        "import tensorflow as tf\n",
        "checkpoint_filepath = 'drive/MyDrive/speaker/checkpoint_model_lstm2'"
      ],
      "execution_count": null,
      "outputs": []
    },
    {
      "cell_type": "code",
      "metadata": {
        "id": "O3ENLtnVgHSk"
      },
      "source": [
        "if subtract_pixel_mean:\n",
        "    train_mean = np.mean(x_train, axis=0)"
      ],
      "execution_count": null,
      "outputs": []
    },
    {
      "cell_type": "code",
      "metadata": {
        "id": "bzDIJtljgKxW"
      },
      "source": [
        "del x_train\n",
        "del y_train\n",
        "del valid\n",
        "del test"
      ],
      "execution_count": null,
      "outputs": []
    },
    {
      "cell_type": "code",
      "metadata": {
        "id": "rLcR_25Ec8zC"
      },
      "source": [
        "x_test=np.load(\"drive/MyDrive/speaker/test_grey.npy\")"
      ],
      "execution_count": null,
      "outputs": []
    },
    {
      "cell_type": "code",
      "metadata": {
        "id": "E1sg0khKgRGc"
      },
      "source": [
        "x_test = x_test.astype('float16',copy=False)"
      ],
      "execution_count": null,
      "outputs": []
    },
    {
      "cell_type": "code",
      "metadata": {
        "id": "JGOJ9HfhgSq7"
      },
      "source": [
        "x_test = x_test/255"
      ],
      "execution_count": null,
      "outputs": []
    },
    {
      "cell_type": "code",
      "metadata": {
        "id": "5MX_mVqMc720"
      },
      "source": [
        "if subtract_pixel_mean:\n",
        "    x_test -= train_mean"
      ],
      "execution_count": null,
      "outputs": []
    },
    {
      "cell_type": "code",
      "metadata": {
        "id": "0n92g9hAeIfg"
      },
      "source": [
        "x_test=x_test.reshape([x_test.shape[0],99,161])"
      ],
      "execution_count": null,
      "outputs": []
    },
    {
      "cell_type": "code",
      "metadata": {
        "id": "tT0wzn53rV8l"
      },
      "source": [
        "model = tf.keras.models.load_model(checkpoint_filepath)"
      ],
      "execution_count": null,
      "outputs": []
    },
    {
      "cell_type": "code",
      "metadata": {
        "id": "HC-jsAfxmOs2"
      },
      "source": [
        "test_name=pd.read_csv(\"drive/MyDrive/speaker/filelist_test.csv\",index_col=0)\n",
        "test_name=test_name.Name.str.replace(\".png\",\".wav\").to_numpy()"
      ],
      "execution_count": null,
      "outputs": []
    },
    {
      "cell_type": "code",
      "metadata": {
        "id": "35JNPxZnelXD"
      },
      "source": [
        "import time"
      ],
      "execution_count": null,
      "outputs": []
    },
    {
      "cell_type": "code",
      "metadata": {
        "colab": {
          "base_uri": "https://localhost:8080/"
        },
        "id": "4VavABG3_d82",
        "outputId": "ecb692f5-a52f-4ca3-ad2a-4d76df093bae"
      },
      "source": [
        "for i in range(5,6):\n",
        "  print(i)\n",
        "  subset=x_test[i::6]\n",
        "  pred=np.argmax(model.predict(subset,batch_size=1000),axis=1)\n",
        "  pred=pre.inverse_transform(pred)\n",
        "  results=pd.DataFrame({\"fname\":test_name[i::6],\"label\":pred})\n",
        "  results.to_csv(\"drive/MyDrive/speaker/results\"+str(i)+\".csv\",index=None)\n",
        "  model.reset_states()\n",
        "  del pred\n",
        "  del results\n",
        "  del subset\n",
        "  subset=0\n",
        "  time.sleep(10)"
      ],
      "execution_count": null,
      "outputs": [
        {
          "output_type": "stream",
          "text": [
            "5\n"
          ],
          "name": "stdout"
        }
      ]
    },
    {
      "cell_type": "code",
      "metadata": {
        "id": "Yph1Mvf1sBkS"
      },
      "source": [
        "res0=pd.read_csv(\"drive/MyDrive/speaker/results0.csv\")\n",
        "res1=pd.read_csv(\"drive/MyDrive/speaker/results1.csv\")\n",
        "res2=pd.read_csv(\"drive/MyDrive/speaker/results2.csv\")\n",
        "res3=pd.read_csv(\"drive/MyDrive/speaker/results3.csv\")\n",
        "res4=pd.read_csv(\"drive/MyDrive/speaker/results4.csv\")\n",
        "res5=pd.read_csv(\"drive/MyDrive/speaker/results5.csv\")"
      ],
      "execution_count": null,
      "outputs": []
    },
    {
      "cell_type": "code",
      "metadata": {
        "id": "pReflUDU46P4"
      },
      "source": [
        "total_results=pd.concat([res0,res1,res2,res3,res4,res5])"
      ],
      "execution_count": null,
      "outputs": []
    },
    {
      "cell_type": "code",
      "metadata": {
        "id": "Pxg20vto5IU9"
      },
      "source": [
        "total_results.to_csv(\"drive/MyDrive/speaker/results.csv\",index=None)"
      ],
      "execution_count": null,
      "outputs": []
    },
    {
      "cell_type": "code",
      "metadata": {
        "id": "voVKXkBm4vF3"
      },
      "source": [
        "import tensorflow as tf\n",
        "checkpoint_filepath = 'drive/MyDrive/speaker/checkpoint_model_lstm2'\n",
        "model = tf.keras.models.load_model(checkpoint_filepath)"
      ],
      "execution_count": null,
      "outputs": []
    },
    {
      "cell_type": "code",
      "metadata": {
        "id": "dgtE7-XB5hUX",
        "colab": {
          "base_uri": "https://localhost:8080/",
          "height": 237
        },
        "outputId": "38cd0f54-ebba-42ed-cd41-34be6581d809"
      },
      "source": [
        "import matplotlib.pyplot as plt\n",
        "\n",
        "# summarize history for accuracy\n",
        "plt.plot(model.history.history['accuracy'])\n",
        "plt.plot(model.history.history['val_accuracy'])\n",
        "plt.title('model accuracy')\n",
        "plt.ylabel('accuracy')\n",
        "plt.xlabel('epoch')\n",
        "plt.legend(['train', 'test'], loc='upper left')\n",
        "plt.show()\n",
        "# summarize history for loss\n",
        "plt.plot(model.history.history['loss'])\n",
        "plt.plot(model.history.history['val_loss'])\n",
        "plt.title('model loss')\n",
        "plt.ylabel('loss')\n",
        "plt.xlabel('epoch')\n",
        "plt.legend(['train', 'test'], loc='upper left')\n",
        "plt.show()"
      ],
      "execution_count": null,
      "outputs": [
        {
          "output_type": "error",
          "ename": "AttributeError",
          "evalue": "ignored",
          "traceback": [
            "\u001b[0;31m---------------------------------------------------------------------------\u001b[0m",
            "\u001b[0;31mAttributeError\u001b[0m                            Traceback (most recent call last)",
            "\u001b[0;32m<ipython-input-4-5a80d3dc1fbb>\u001b[0m in \u001b[0;36m<module>\u001b[0;34m()\u001b[0m\n\u001b[1;32m      2\u001b[0m \u001b[0;34m\u001b[0m\u001b[0m\n\u001b[1;32m      3\u001b[0m \u001b[0;31m# summarize history for accuracy\u001b[0m\u001b[0;34m\u001b[0m\u001b[0;34m\u001b[0m\u001b[0;34m\u001b[0m\u001b[0m\n\u001b[0;32m----> 4\u001b[0;31m \u001b[0mplt\u001b[0m\u001b[0;34m.\u001b[0m\u001b[0mplot\u001b[0m\u001b[0;34m(\u001b[0m\u001b[0mmodel\u001b[0m\u001b[0;34m.\u001b[0m\u001b[0mhistory\u001b[0m\u001b[0;34m.\u001b[0m\u001b[0mhistory\u001b[0m\u001b[0;34m[\u001b[0m\u001b[0;34m'accuracy'\u001b[0m\u001b[0;34m]\u001b[0m\u001b[0;34m)\u001b[0m\u001b[0;34m\u001b[0m\u001b[0;34m\u001b[0m\u001b[0m\n\u001b[0m\u001b[1;32m      5\u001b[0m \u001b[0mplt\u001b[0m\u001b[0;34m.\u001b[0m\u001b[0mplot\u001b[0m\u001b[0;34m(\u001b[0m\u001b[0mmodel\u001b[0m\u001b[0;34m.\u001b[0m\u001b[0mhistory\u001b[0m\u001b[0;34m.\u001b[0m\u001b[0mhistory\u001b[0m\u001b[0;34m[\u001b[0m\u001b[0;34m'val_accuracy'\u001b[0m\u001b[0;34m]\u001b[0m\u001b[0;34m)\u001b[0m\u001b[0;34m\u001b[0m\u001b[0;34m\u001b[0m\u001b[0m\n\u001b[1;32m      6\u001b[0m \u001b[0mplt\u001b[0m\u001b[0;34m.\u001b[0m\u001b[0mtitle\u001b[0m\u001b[0;34m(\u001b[0m\u001b[0;34m'model accuracy'\u001b[0m\u001b[0;34m)\u001b[0m\u001b[0;34m\u001b[0m\u001b[0;34m\u001b[0m\u001b[0m\n",
            "\u001b[0;31mAttributeError\u001b[0m: 'NoneType' object has no attribute 'history'"
          ]
        }
      ]
    },
    {
      "cell_type": "code",
      "metadata": {
        "colab": {
          "base_uri": "https://localhost:8080/",
          "height": 167
        },
        "id": "qLOqutUH5C7Z",
        "outputId": "f1983141-3747-4c84-8d84-266fec53b31b"
      },
      "source": [
        "model.history.history"
      ],
      "execution_count": null,
      "outputs": [
        {
          "output_type": "error",
          "ename": "AttributeError",
          "evalue": "ignored",
          "traceback": [
            "\u001b[0;31m---------------------------------------------------------------------------\u001b[0m",
            "\u001b[0;31mAttributeError\u001b[0m                            Traceback (most recent call last)",
            "\u001b[0;32m<ipython-input-6-c20bfc843ed8>\u001b[0m in \u001b[0;36m<module>\u001b[0;34m()\u001b[0m\n\u001b[0;32m----> 1\u001b[0;31m \u001b[0mmodel\u001b[0m\u001b[0;34m.\u001b[0m\u001b[0mhistory\u001b[0m\u001b[0;34m.\u001b[0m\u001b[0mhistory\u001b[0m\u001b[0;34m\u001b[0m\u001b[0;34m\u001b[0m\u001b[0m\n\u001b[0m",
            "\u001b[0;31mAttributeError\u001b[0m: 'NoneType' object has no attribute 'history'"
          ]
        }
      ]
    },
    {
      "cell_type": "code",
      "metadata": {
        "id": "jYpvsR8J5H8C"
      },
      "source": [
        "from keras.utils.vis_utils import plot_model"
      ],
      "execution_count": null,
      "outputs": []
    },
    {
      "cell_type": "code",
      "metadata": {
        "id": "tLTCHxhY6_RL",
        "colab": {
          "base_uri": "https://localhost:8080/",
          "height": 754
        },
        "outputId": "f6696469-8f82-4045-d73e-2d73b7189852"
      },
      "source": [
        "plot_model(model, to_file='model_plot.png', show_shapes=True, show_layer_names=False)"
      ],
      "execution_count": null,
      "outputs": [
        {
          "output_type": "execute_result",
          "data": {
            "image/png": "[encoded data removed]",
            "text/plain": [
              "<IPython.core.display.Image object>"
            ]
          },
          "metadata": {
            "tags": []
          },
          "execution_count": 8
        }
      ]
    },
    {
      "cell_type": "code",
      "metadata": {
        "id": "4ead2U-J7DVk"
      },
      "source": [
        ""
      ],
      "execution_count": null,
      "outputs": []
    }
  ]
}