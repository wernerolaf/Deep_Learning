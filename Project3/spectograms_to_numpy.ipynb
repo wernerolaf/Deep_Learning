{
 "cells": [
  {
   "cell_type": "markdown",
   "metadata": {},
   "source": [
    "# test data set to numpy tensor"
   ]
  },
  {
   "cell_type": "code",
   "execution_count": 1,
   "metadata": {},
   "outputs": [],
   "source": [
    "import numpy as np\n",
    "from PIL import Image\n",
    "import os"
   ]
  },
  {
   "cell_type": "code",
   "execution_count": 2,
   "metadata": {},
   "outputs": [
    {
     "data": {
      "text/plain": [
       "['nine',\n",
       " 'go',\n",
       " 'down',\n",
       " 'dog',\n",
       " 'two',\n",
       " 'happy',\n",
       " 'zero',\n",
       " 'stop',\n",
       " 'off',\n",
       " 'on',\n",
       " 'five',\n",
       " 'six',\n",
       " 'bird',\n",
       " 'four',\n",
       " 'marvin',\n",
       " 'tree',\n",
       " 'right',\n",
       " 'bed',\n",
       " 'house',\n",
       " 'eight',\n",
       " 'wow',\n",
       " 'seven',\n",
       " 'up',\n",
       " 'no',\n",
       " 'three',\n",
       " 'left',\n",
       " 'one',\n",
       " 'sheila',\n",
       " 'cat',\n",
       " 'yes']"
      ]
     },
     "execution_count": 2,
     "metadata": {},
     "output_type": "execute_result"
    }
   ],
   "source": [
    "os.listdir(\"train/\")"
   ]
  },
  {
   "cell_type": "markdown",
   "metadata": {},
   "source": [
    "# remove background noises before running!"
   ]
  },
  {
   "cell_type": "code",
   "execution_count": 26,
   "metadata": {},
   "outputs": [
    {
     "name": "stdout",
     "output_type": "stream",
     "text": [
      "nine\n",
      "go\n",
      "down\n",
      "dog\n",
      "two\n",
      "happy\n",
      "zero\n",
      "stop\n",
      "off\n",
      "on\n",
      "five\n",
      "six\n",
      "bird\n",
      "four\n",
      "marvin\n",
      "tree\n",
      "right\n",
      "bed\n",
      "house\n",
      "eight\n",
      "wow\n",
      "seven\n",
      "up\n",
      "no\n",
      "three\n",
      "left\n",
      "one\n",
      "sheila\n",
      "cat\n",
      "yes\n"
     ]
    }
   ],
   "source": [
    "X_data = []\n",
    "dirr = os.listdir(\"train\")\n",
    "for d in dirr:\n",
    "    print(d)\n",
    "    files=os.listdir(\"train/\"+d)\n",
    "    for my_file in files:\n",
    "        image = Image.open(\"train/\"+d+\"/\"+my_file).convert('RGB')\n",
    "        image = np.array(image)\n",
    "        X_data.append(image)"
   ]
  },
  {
   "cell_type": "code",
   "execution_count": 11,
   "metadata": {},
   "outputs": [],
   "source": [
    "img_all=np.zeros([len(X_data),max([len(x) for x in X_data]),max([len(x[0]) for x in X_data]),3],dtype=\"uint8\")"
   ]
  },
  {
   "cell_type": "code",
   "execution_count": 29,
   "metadata": {},
   "outputs": [],
   "source": [
    "for i in range(len(X_data)):\n",
    "    img_all[i][0:len(X_data[i]),0:len(X_data[i][0])]=X_data[i]"
   ]
  },
  {
   "cell_type": "code",
   "execution_count": 32,
   "metadata": {},
   "outputs": [],
   "source": [
    "np.save(\"train.npy\",img_all)"
   ]
  },
  {
   "cell_type": "code",
   "execution_count": 35,
   "metadata": {},
   "outputs": [],
   "source": [
    "import pandas as pd"
   ]
  },
  {
   "cell_type": "code",
   "execution_count": 38,
   "metadata": {},
   "outputs": [
    {
     "name": "stdout",
     "output_type": "stream",
     "text": [
      "nine\n",
      "go\n",
      "down\n",
      "dog\n",
      "two\n",
      "happy\n",
      "zero\n",
      "stop\n",
      "off\n",
      "on\n",
      "five\n",
      "six\n",
      "bird\n",
      "four\n",
      "marvin\n",
      "tree\n",
      "right\n",
      "bed\n",
      "house\n",
      "eight\n",
      "wow\n",
      "seven\n",
      "up\n",
      "no\n",
      "three\n",
      "left\n",
      "one\n",
      "sheila\n",
      "cat\n",
      "yes\n"
     ]
    }
   ],
   "source": [
    "X_names = []\n",
    "X_types = []\n",
    "dirr = os.listdir(\"train\")\n",
    "for d in dirr:\n",
    "    print(d)\n",
    "    files=os.listdir(\"train/\"+d)\n",
    "    for my_file in files:\n",
    "        X_types.append(d)\n",
    "        X_names.append(my_file)"
   ]
  },
  {
   "cell_type": "code",
   "execution_count": 39,
   "metadata": {},
   "outputs": [],
   "source": [
    "df = pd.DataFrame(\n",
    "{\"Name\" : X_names,\n",
    "\"Type\" : X_types},\n",
    "index = None)"
   ]
  },
  {
   "cell_type": "code",
   "execution_count": 41,
   "metadata": {},
   "outputs": [],
   "source": [
    "df.to_csv(\"filelist.csv\")"
   ]
  }
 ],
 "metadata": {
  "colab": {
   "authorship_tag": "ABX9TyPK7Ki8uTWCrjm0tTfs9r8d",
   "collapsed_sections": [],
   "name": "CONV.ipynb",
   "provenance": []
  },
  "kernelspec": {
   "display_name": "Python 3",
   "language": "python",
   "name": "python3"
  },
  "language_info": {
   "codemirror_mode": {
    "name": "ipython",
    "version": 3
   },
   "file_extension": ".py",
   "mimetype": "text/x-python",
   "name": "python",
   "nbconvert_exporter": "python",
   "pygments_lexer": "ipython3",
   "version": "3.8.5"
  }
 },
 "nbformat": 4,
 "nbformat_minor": 1
}
