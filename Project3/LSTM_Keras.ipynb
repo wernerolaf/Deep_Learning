{
  "nbformat": 4,
  "nbformat_minor": 0,
  "metadata": {
    "colab": {
      "name": "LSTM_Keras.ipynb",
      "provenance": []
    },
    "kernelspec": {
      "display_name": "Python 3",
      "language": "python",
      "name": "python3"
    },
    "language_info": {
      "codemirror_mode": {
        "name": "ipython",
        "version": 3
      },
      "file_extension": ".py",
      "mimetype": "text/x-python",
      "name": "python",
      "nbconvert_exporter": "python",
      "pygments_lexer": "ipython3",
      "version": "3.8.5"
    },
    "accelerator": "GPU"
  },
  "cells": [
    {
      "cell_type": "code",
      "metadata": {
        "id": "TK-9QVIPaQQY"
      },
      "source": [
        "import pandas as pd\n",
        "import keras\n",
        "from keras.layers import Dense, Conv2D, BatchNormalization, Activation\n",
        "from keras.layers import AveragePooling2D, Input, Flatten\n",
        "from keras.optimizers import Adam\n",
        "from keras.callbacks import ModelCheckpoint, LearningRateScheduler\n",
        "from keras.callbacks import ReduceLROnPlateau\n",
        "from keras.preprocessing.image import ImageDataGenerator\n",
        "from keras.regularizers import l2\n",
        "from keras import backend as K\n",
        "from keras.models import Model\n",
        "import numpy as np\n",
        "import os\n",
        "import tensorflow as tf"
      ],
      "execution_count": 1,
      "outputs": []
    },
    {
      "cell_type": "code",
      "metadata": {
        "colab": {
          "base_uri": "https://localhost:8080/"
        },
        "id": "WJE9nN6XLEr2",
        "outputId": "7a217bdc-88a4-4396-fbf8-1fcb0a71ac2f"
      },
      "source": [
        "from google.colab import drive\n",
        "drive.mount('/content/drive')"
      ],
      "execution_count": 2,
      "outputs": [
        {
          "output_type": "stream",
          "text": [
            "Drive already mounted at /content/drive; to attempt to forcibly remount, call drive.mount(\"/content/drive\", force_remount=True).\n"
          ],
          "name": "stdout"
        }
      ]
    },
    {
      "cell_type": "code",
      "metadata": {
        "id": "uiz83hFvRcBM"
      },
      "source": [
        "X_all=np.load(\"drive/MyDrive/speaker/train_gray.npy\")\n",
        "\n",
        "X_all = X_all.astype('float16')\n",
        "X_all = X_all/255\n",
        "\n",
        "X_all = X_all.reshape([X_all.shape[0],99,161])\n",
        "\n",
        "Y_all=pd.read_csv(\"drive/MyDrive/speaker/filelist.csv\",index_col=0)\n",
        "\n",
        "X_all.shape\n",
        "\n",
        "Y_all.shape\n",
        "\n",
        "test=np.loadtxt(\"drive/MyDrive/speaker/testing_list.txt\",dtype=\"str\")\n",
        "\n",
        "test=np.char.replace(test,\".wav\",\"\")\n",
        "\n",
        "test=np.char.split(test,\"/\")\n",
        "\n",
        "test_name=np.array([x[1] for x in test])\n",
        "test_type=np.array([x[0] for x in test])\n",
        "\n",
        "valid=np.loadtxt(\"drive/MyDrive/speaker/validation_list.txt\",dtype=\"str\")\n",
        "\n",
        "valid=np.char.replace(valid,\".wav\",\"\")\n",
        "\n",
        "valid=np.char.split(valid,\"/\")\n",
        "\n",
        "valid_name=np.array([x[1] for x in valid])\n",
        "valid_type=np.array([x[0] for x in valid])\n",
        "\n",
        "Y_all.Name=Y_all.Name.str.replace(\".png\",\"\")\n",
        "\n",
        "Y_all[\"Index\"]=Y_all.index\n",
        "\n",
        "valid=pd.DataFrame({\"Name\":valid_name,\"Type\":valid_type})\n",
        "\n",
        "test=pd.DataFrame({\"Name\":test_name,\"Type\":test_type})\n",
        "\n",
        "valid=pd.merge(Y_all,valid,on=[\"Name\",\"Type\"],how=\"right\")\n",
        "\n",
        "test=pd.merge(Y_all,test,on=[\"Name\",\"Type\"],how=\"right\")\n",
        "\n",
        "test.Index.isna().any()\n",
        "\n",
        "valid.Index.isna().any()\n",
        "\n",
        "x_val=X_all[valid.Index]\n",
        "\n",
        "y_val=Y_all.iloc[valid.Index].Type.to_numpy()\n",
        "\n",
        "x_test=X_all[test.Index]\n",
        "\n",
        "y_test=Y_all.iloc[test.Index].Type.to_numpy()\n",
        "\n",
        "Y_all=Y_all[~Y_all.Index.isin(valid.Index)]\n",
        "Y_all=Y_all[~Y_all.Index.isin(test.Index)]\n",
        "\n",
        "x_train=X_all[Y_all.Index]\n",
        "\n",
        "y_train=Y_all.Type.to_numpy()\n",
        "\n",
        "classes=np.unique(y_train)\n",
        "\n",
        "del X_all\n",
        "\n",
        "del Y_all"
      ],
      "execution_count": 3,
      "outputs": []
    },
    {
      "cell_type": "code",
      "metadata": {
        "id": "XNnvJ_WKVaj3"
      },
      "source": [
        "commands=[\"yes\", \"no\", \"up\", \"down\", \"left\", \"right\", \"on\", \"off\", \"stop\", \"go\"]"
      ],
      "execution_count": 4,
      "outputs": []
    },
    {
      "cell_type": "code",
      "metadata": {
        "id": "tSf2L3dIV25A"
      },
      "source": [
        "classes[np.isin(classes,commands,invert=True)]=\"unknown\""
      ],
      "execution_count": 5,
      "outputs": []
    },
    {
      "cell_type": "code",
      "metadata": {
        "id": "aFBCuQfMTSJU"
      },
      "source": [
        "y_test[np.isin(y_test,commands,invert=True)]=\"unknown\""
      ],
      "execution_count": 6,
      "outputs": []
    },
    {
      "cell_type": "code",
      "metadata": {
        "id": "NIg99A8JWEfb"
      },
      "source": [
        "y_val[np.isin(y_val,commands,invert=True)]=\"unknown\""
      ],
      "execution_count": 7,
      "outputs": []
    },
    {
      "cell_type": "code",
      "metadata": {
        "id": "jnkY9TX8WGgn"
      },
      "source": [
        "y_train[np.isin(y_train,commands,invert=True)]=\"unknown\""
      ],
      "execution_count": 8,
      "outputs": []
    },
    {
      "cell_type": "code",
      "metadata": {
        "colab": {
          "base_uri": "https://localhost:8080/"
        },
        "id": "d3-dOgLEvYPr",
        "outputId": "46f470b0-fdc0-4c4c-cf18-4941edf94327"
      },
      "source": [
        "noise=np.load(\"drive/MyDrive/speaker/noise_aug_grey_part.npy\")\n",
        "\n",
        "noise = noise.astype('float16')\n",
        "noise = noise/255\n",
        "noise.shape"
      ],
      "execution_count": 9,
      "outputs": [
        {
          "output_type": "execute_result",
          "data": {
            "text/plain": [
              "(6288, 99, 161, 1)"
            ]
          },
          "metadata": {
            "tags": []
          },
          "execution_count": 9
        }
      ]
    },
    {
      "cell_type": "code",
      "metadata": {
        "id": "H64Ax6Pav5CR"
      },
      "source": [
        "noise=noise.reshape([noise.shape[0],99,161])"
      ],
      "execution_count": 10,
      "outputs": []
    },
    {
      "cell_type": "code",
      "metadata": {
        "colab": {
          "base_uri": "https://localhost:8080/"
        },
        "id": "TwniU4yjv70G",
        "outputId": "40d33928-a17f-45c1-a528-4f873ff5205e"
      },
      "source": [
        "x_train.shape"
      ],
      "execution_count": 11,
      "outputs": [
        {
          "output_type": "execute_result",
          "data": {
            "text/plain": [
              "(51088, 99, 161)"
            ]
          },
          "metadata": {
            "tags": []
          },
          "execution_count": 11
        }
      ]
    },
    {
      "cell_type": "code",
      "metadata": {
        "id": "9qn9rencvkVN"
      },
      "source": [
        "x_train=np.concatenate((x_train, noise[0::2]))"
      ],
      "execution_count": 12,
      "outputs": []
    },
    {
      "cell_type": "code",
      "metadata": {
        "id": "vcb3KZV2wRbh"
      },
      "source": [
        "x_val=np.concatenate((x_val, noise[1::2]))"
      ],
      "execution_count": 13,
      "outputs": []
    },
    {
      "cell_type": "code",
      "metadata": {
        "colab": {
          "base_uri": "https://localhost:8080/"
        },
        "id": "6bpLNjbeydpS",
        "outputId": "6055518b-80fd-4e95-85a3-0bcae16ee3ae"
      },
      "source": [
        "np.repeat('silence', noise[0::2].shape[0], axis=0)"
      ],
      "execution_count": 14,
      "outputs": [
        {
          "output_type": "execute_result",
          "data": {
            "text/plain": [
              "array(['silence', 'silence', 'silence', ..., 'silence', 'silence',\n",
              "       'silence'], dtype='<U7')"
            ]
          },
          "metadata": {
            "tags": []
          },
          "execution_count": 14
        }
      ]
    },
    {
      "cell_type": "code",
      "metadata": {
        "id": "y9ET54iYwf4E"
      },
      "source": [
        "y_train = np.concatenate((y_train,np.repeat('silence', noise[0::2].shape[0], axis=0)))\n",
        "y_val = np.concatenate((y_val,np.repeat('silence', noise[1::2].shape[0], axis=0)))"
      ],
      "execution_count": 15,
      "outputs": []
    },
    {
      "cell_type": "code",
      "metadata": {
        "id": "nauHjhj0SK0m"
      },
      "source": [
        "from sklearn import preprocessing\n",
        "pre = preprocessing.LabelEncoder()\n",
        "pre.fit(y_train)\n",
        "y_train = pre.transform(y_train)\n",
        "y_test= pre.transform(y_test)\n",
        "y_val= pre.transform(y_val)"
      ],
      "execution_count": 16,
      "outputs": []
    },
    {
      "cell_type": "code",
      "metadata": {
        "id": "djjPtZQmZZdR"
      },
      "source": [
        "y_train = keras.utils.to_categorical(y_train, num_classes=12)\n",
        "y_val = keras.utils.to_categorical(y_val, num_classes=12)\n",
        "y_test = keras.utils.to_categorical(y_test, num_classes=12)"
      ],
      "execution_count": 17,
      "outputs": []
    },
    {
      "cell_type": "code",
      "metadata": {
        "id": "tl8-54zQixvl"
      },
      "source": [
        "batch_size = 32  # orig paper trained all networks with batch_size=128\n",
        "epochs = 10\n",
        "data_augmentation = False\n",
        "num_classes = 12\n",
        "subtract_pixel_mean = True\n"
      ],
      "execution_count": 18,
      "outputs": []
    },
    {
      "cell_type": "code",
      "metadata": {
        "colab": {
          "base_uri": "https://localhost:8080/"
        },
        "id": "xtcq2Ih2jdGv",
        "outputId": "83e4131f-2819-4769-b764-401fbbf119cf"
      },
      "source": [
        "input_shape = x_train.shape[1:]\n",
        "input_shape"
      ],
      "execution_count": 19,
      "outputs": [
        {
          "output_type": "execute_result",
          "data": {
            "text/plain": [
              "(99, 161)"
            ]
          },
          "metadata": {
            "tags": []
          },
          "execution_count": 19
        }
      ]
    },
    {
      "cell_type": "code",
      "metadata": {
        "id": "0TV50BLRkGHr"
      },
      "source": [
        "if subtract_pixel_mean:\n",
        "    train_mean = np.mean(x_train, axis=0)\n",
        "    x_train -= train_mean\n",
        "    x_val -= train_mean\n",
        "    x_test -= train_mean"
      ],
      "execution_count": 20,
      "outputs": []
    },
    {
      "cell_type": "code",
      "metadata": {
        "id": "nMyYqKueleSM"
      },
      "source": [
        "def lr_schedule(epoch):\n",
        "    \"\"\"Learning Rate Schedule\n",
        "\n",
        "    Learning rate is scheduled to be reduced after 80, 120, 160, 180 epochs.\n",
        "    Called automatically every epoch as part of callbacks during training.\n",
        "\n",
        "    # Arguments\n",
        "        epoch (int): The number of epochs\n",
        "\n",
        "    # Returns\n",
        "        lr (float32): learning rate\n",
        "    \"\"\"\n",
        "    lr = 1e-3\n",
        "    if epoch > 180:\n",
        "        lr *= 0.5e-3\n",
        "    elif epoch > 160:\n",
        "        lr *= 1e-3\n",
        "    elif epoch > 120:\n",
        "        lr *= 1e-2\n",
        "    elif epoch > 80:\n",
        "        lr *= 1e-1\n",
        "    print('Learning rate: ', lr)\n",
        "    return lr"
      ],
      "execution_count": 21,
      "outputs": []
    },
    {
      "cell_type": "code",
      "metadata": {
        "id": "c0OlUMUu8WVK"
      },
      "source": [
        "model = tf.keras.models.Sequential()\n",
        "\n",
        "model.add(tf.keras.layers.LSTM(64,input_shape=(99,161),return_sequences=True))\n",
        "\n",
        "model.add(tf.keras.layers.LSTM(64,return_sequences=True))\n",
        "\n",
        "model.add(tf.keras.layers.LSTM(64,return_sequences=True))\n",
        "model.add(tf.keras.layers.Flatten())\n",
        "model.add(tf.keras.layers.Dropout(0.3))\n",
        "model.add(tf.keras.layers.Dense(12, activation='softmax'))"
      ],
      "execution_count": 22,
      "outputs": []
    },
    {
      "cell_type": "code",
      "metadata": {
        "colab": {
          "base_uri": "https://localhost:8080/"
        },
        "id": "Z1iiTaWhlv8Q",
        "outputId": "307e1f18-189c-4fce-a63b-f685eb45b78c"
      },
      "source": [
        "model.compile(loss='categorical_crossentropy',\n",
        "              optimizer=Adam(lr=lr_schedule(0)),\n",
        "              metrics=['accuracy'])\n",
        "model.summary()\n",
        "\n"
      ],
      "execution_count": 23,
      "outputs": [
        {
          "output_type": "stream",
          "text": [
            "Learning rate:  0.001\n",
            "Model: \"sequential\"\n",
            "_________________________________________________________________\n",
            "Layer (type)                 Output Shape              Param #   \n",
            "=================================================================\n",
            "lstm (LSTM)                  (None, 99, 64)            57856     \n",
            "_________________________________________________________________\n",
            "lstm_1 (LSTM)                (None, 99, 64)            33024     \n",
            "_________________________________________________________________\n",
            "lstm_2 (LSTM)                (None, 99, 64)            33024     \n",
            "_________________________________________________________________\n",
            "flatten (Flatten)            (None, 6336)              0         \n",
            "_________________________________________________________________\n",
            "dropout (Dropout)            (None, 6336)              0         \n",
            "_________________________________________________________________\n",
            "dense (Dense)                (None, 12)                76044     \n",
            "=================================================================\n",
            "Total params: 199,948\n",
            "Trainable params: 199,948\n",
            "Non-trainable params: 0\n",
            "_________________________________________________________________\n"
          ],
          "name": "stdout"
        }
      ]
    },
    {
      "cell_type": "code",
      "metadata": {
        "id": "gFenqx_JmMqp"
      },
      "source": [
        "import tensorflow as tf\n",
        "checkpoint_filepath = 'drive/MyDrive/speaker/checkpoint_model_lstm3'\n",
        "checkpoint = tf.keras.callbacks.ModelCheckpoint(\n",
        "    filepath=checkpoint_filepath,\n",
        "    save_weights_only=False,\n",
        "    monitor='val_accuracy',\n",
        "    mode='max',\n",
        "    save_best_only=True)\n",
        "\n",
        "lr_scheduler = LearningRateScheduler(lr_schedule)\n",
        "\n",
        "lr_reducer = ReduceLROnPlateau(factor=np.sqrt(0.1),\n",
        "                               cooldown=0,\n",
        "                               patience=5,\n",
        "                               min_lr=0.5e-6)\n",
        "\n",
        "callbacks = [checkpoint, lr_reducer, lr_scheduler]\n",
        "\n",
        "\n",
        "\n"
      ],
      "execution_count": 24,
      "outputs": []
    },
    {
      "cell_type": "code",
      "metadata": {
        "colab": {
          "base_uri": "https://localhost:8080/"
        },
        "id": "lGl49zh5mVmL",
        "outputId": "c282eba3-f501-4f21-f4ea-2bb341081983"
      },
      "source": [
        "# Run training, with or without data augmentation.\n",
        "if not data_augmentation:\n",
        "    print('Not using data augmentation.')\n",
        "    history=model.fit(x_train, y_train,\n",
        "              batch_size=batch_size,\n",
        "              epochs=epochs,\n",
        "              validation_data=(x_val, y_val),\n",
        "              shuffle=True,\n",
        "              callbacks=callbacks)\n",
        "else:\n",
        "    print('Using real-time data augmentation.')\n",
        "    # This will do preprocessing and realtime data augmentation:\n",
        "    datagen = ImageDataGenerator(\n",
        "        # set input mean to 0 over the dataset\n",
        "        featurewise_center=False,\n",
        "        # set each sample mean to 0\n",
        "        samplewise_center=False,\n",
        "        # divide inputs by std of dataset\n",
        "        featurewise_std_normalization=False,\n",
        "        # divide each input by its std\n",
        "        samplewise_std_normalization=False,\n",
        "        # apply ZCA whitening\n",
        "        zca_whitening=False,\n",
        "        # epsilon for ZCA whitening\n",
        "        zca_epsilon=1e-06,\n",
        "        # randomly rotate images in the range (deg 0 to 180)\n",
        "        rotation_range=0,\n",
        "        # randomly shift images horizontally\n",
        "        width_shift_range=0.1,\n",
        "        # randomly shift images vertically\n",
        "        height_shift_range=0.1,\n",
        "        # set range for random shear\n",
        "        shear_range=0.,\n",
        "        # set range for random zoom\n",
        "        zoom_range=0.,\n",
        "        # set range for random channel shifts\n",
        "        channel_shift_range=0.,\n",
        "        # set mode for filling points outside the input boundaries\n",
        "        fill_mode='nearest',\n",
        "        # value used for fill_mode = \"constant\"\n",
        "        cval=0.,\n",
        "        # randomly flip images\n",
        "        horizontal_flip=True,\n",
        "        # randomly flip images\n",
        "        vertical_flip=False,\n",
        "        # set rescaling factor (applied before any other transformation)\n",
        "        rescale=None,\n",
        "        # set function that will be applied on each input\n",
        "        preprocessing_function=None,\n",
        "        # image data format, either \"channels_first\" or \"channels_last\"\n",
        "        data_format=None,\n",
        "        # fraction of images reserved for validation (strictly between 0 and 1)\n",
        "        validation_split=0.0)\n",
        "\n",
        "    # Compute quantities required for featurewise normalization\n",
        "    # (std, mean, and principal components if ZCA whitening is applied).\n",
        "    datagen.fit(train)\n",
        "\n",
        "    # Fit the model on the batches generated by datagen.flow().\n",
        "    model.fit_generator(datagen.flow(train, y_train, batch_size=128),\n",
        "                        validation_data=(valid, y_valid),\n",
        "                        epochs=epochs, verbose=1, workers=4,\n",
        "                        callbacks=callbacks)"
      ],
      "execution_count": 25,
      "outputs": [
        {
          "output_type": "stream",
          "text": [
            "Not using data augmentation.\n",
            "Epoch 1/10\n",
            "Learning rate:  0.001\n",
            "1695/1695 [==============================] - 65s 18ms/step - loss: 0.9281 - accuracy: 0.7253 - val_loss: 0.2360 - val_accuracy: 0.9233\n"
          ],
          "name": "stdout"
        },
        {
          "output_type": "stream",
          "text": [
            "WARNING:absl:Found untraced functions such as lstm_cell_layer_call_fn, lstm_cell_layer_call_and_return_conditional_losses, lstm_cell_1_layer_call_fn, lstm_cell_1_layer_call_and_return_conditional_losses, lstm_cell_2_layer_call_fn while saving (showing 5 of 15). These functions will not be directly callable after loading.\n",
            "WARNING:absl:Found untraced functions such as lstm_cell_layer_call_fn, lstm_cell_layer_call_and_return_conditional_losses, lstm_cell_1_layer_call_fn, lstm_cell_1_layer_call_and_return_conditional_losses, lstm_cell_2_layer_call_fn while saving (showing 5 of 15). These functions will not be directly callable after loading.\n"
          ],
          "name": "stderr"
        },
        {
          "output_type": "stream",
          "text": [
            "INFO:tensorflow:Assets written to: drive/MyDrive/speaker/checkpoint_model_lstm3/assets\n"
          ],
          "name": "stdout"
        },
        {
          "output_type": "stream",
          "text": [
            "INFO:tensorflow:Assets written to: drive/MyDrive/speaker/checkpoint_model_lstm3/assets\n"
          ],
          "name": "stderr"
        },
        {
          "output_type": "stream",
          "text": [
            "Epoch 2/10\n",
            "Learning rate:  0.001\n",
            "1695/1695 [==============================] - 29s 17ms/step - loss: 0.2903 - accuracy: 0.9064 - val_loss: 0.1801 - val_accuracy: 0.9440\n"
          ],
          "name": "stdout"
        },
        {
          "output_type": "stream",
          "text": [
            "WARNING:absl:Found untraced functions such as lstm_cell_layer_call_fn, lstm_cell_layer_call_and_return_conditional_losses, lstm_cell_1_layer_call_fn, lstm_cell_1_layer_call_and_return_conditional_losses, lstm_cell_2_layer_call_fn while saving (showing 5 of 15). These functions will not be directly callable after loading.\n",
            "WARNING:absl:Found untraced functions such as lstm_cell_layer_call_fn, lstm_cell_layer_call_and_return_conditional_losses, lstm_cell_1_layer_call_fn, lstm_cell_1_layer_call_and_return_conditional_losses, lstm_cell_2_layer_call_fn while saving (showing 5 of 15). These functions will not be directly callable after loading.\n"
          ],
          "name": "stderr"
        },
        {
          "output_type": "stream",
          "text": [
            "INFO:tensorflow:Assets written to: drive/MyDrive/speaker/checkpoint_model_lstm3/assets\n"
          ],
          "name": "stdout"
        },
        {
          "output_type": "stream",
          "text": [
            "INFO:tensorflow:Assets written to: drive/MyDrive/speaker/checkpoint_model_lstm3/assets\n"
          ],
          "name": "stderr"
        },
        {
          "output_type": "stream",
          "text": [
            "Epoch 3/10\n",
            "Learning rate:  0.001\n",
            "1695/1695 [==============================] - 29s 17ms/step - loss: 0.2161 - accuracy: 0.9332 - val_loss: 0.1778 - val_accuracy: 0.9487\n"
          ],
          "name": "stdout"
        },
        {
          "output_type": "stream",
          "text": [
            "WARNING:absl:Found untraced functions such as lstm_cell_layer_call_fn, lstm_cell_layer_call_and_return_conditional_losses, lstm_cell_1_layer_call_fn, lstm_cell_1_layer_call_and_return_conditional_losses, lstm_cell_2_layer_call_fn while saving (showing 5 of 15). These functions will not be directly callable after loading.\n",
            "WARNING:absl:Found untraced functions such as lstm_cell_layer_call_fn, lstm_cell_layer_call_and_return_conditional_losses, lstm_cell_1_layer_call_fn, lstm_cell_1_layer_call_and_return_conditional_losses, lstm_cell_2_layer_call_fn while saving (showing 5 of 15). These functions will not be directly callable after loading.\n"
          ],
          "name": "stderr"
        },
        {
          "output_type": "stream",
          "text": [
            "INFO:tensorflow:Assets written to: drive/MyDrive/speaker/checkpoint_model_lstm3/assets\n"
          ],
          "name": "stdout"
        },
        {
          "output_type": "stream",
          "text": [
            "INFO:tensorflow:Assets written to: drive/MyDrive/speaker/checkpoint_model_lstm3/assets\n"
          ],
          "name": "stderr"
        },
        {
          "output_type": "stream",
          "text": [
            "Epoch 4/10\n",
            "Learning rate:  0.001\n",
            "1695/1695 [==============================] - 29s 17ms/step - loss: 0.1707 - accuracy: 0.9464 - val_loss: 0.1560 - val_accuracy: 0.9523\n"
          ],
          "name": "stdout"
        },
        {
          "output_type": "stream",
          "text": [
            "WARNING:absl:Found untraced functions such as lstm_cell_layer_call_fn, lstm_cell_layer_call_and_return_conditional_losses, lstm_cell_1_layer_call_fn, lstm_cell_1_layer_call_and_return_conditional_losses, lstm_cell_2_layer_call_fn while saving (showing 5 of 15). These functions will not be directly callable after loading.\n",
            "WARNING:absl:Found untraced functions such as lstm_cell_layer_call_fn, lstm_cell_layer_call_and_return_conditional_losses, lstm_cell_1_layer_call_fn, lstm_cell_1_layer_call_and_return_conditional_losses, lstm_cell_2_layer_call_fn while saving (showing 5 of 15). These functions will not be directly callable after loading.\n"
          ],
          "name": "stderr"
        },
        {
          "output_type": "stream",
          "text": [
            "INFO:tensorflow:Assets written to: drive/MyDrive/speaker/checkpoint_model_lstm3/assets\n"
          ],
          "name": "stdout"
        },
        {
          "output_type": "stream",
          "text": [
            "INFO:tensorflow:Assets written to: drive/MyDrive/speaker/checkpoint_model_lstm3/assets\n"
          ],
          "name": "stderr"
        },
        {
          "output_type": "stream",
          "text": [
            "Epoch 5/10\n",
            "Learning rate:  0.001\n",
            "1695/1695 [==============================] - 29s 17ms/step - loss: 0.1408 - accuracy: 0.9566 - val_loss: 0.1418 - val_accuracy: 0.9576\n"
          ],
          "name": "stdout"
        },
        {
          "output_type": "stream",
          "text": [
            "WARNING:absl:Found untraced functions such as lstm_cell_layer_call_fn, lstm_cell_layer_call_and_return_conditional_losses, lstm_cell_1_layer_call_fn, lstm_cell_1_layer_call_and_return_conditional_losses, lstm_cell_2_layer_call_fn while saving (showing 5 of 15). These functions will not be directly callable after loading.\n",
            "WARNING:absl:Found untraced functions such as lstm_cell_layer_call_fn, lstm_cell_layer_call_and_return_conditional_losses, lstm_cell_1_layer_call_fn, lstm_cell_1_layer_call_and_return_conditional_losses, lstm_cell_2_layer_call_fn while saving (showing 5 of 15). These functions will not be directly callable after loading.\n"
          ],
          "name": "stderr"
        },
        {
          "output_type": "stream",
          "text": [
            "INFO:tensorflow:Assets written to: drive/MyDrive/speaker/checkpoint_model_lstm3/assets\n"
          ],
          "name": "stdout"
        },
        {
          "output_type": "stream",
          "text": [
            "INFO:tensorflow:Assets written to: drive/MyDrive/speaker/checkpoint_model_lstm3/assets\n"
          ],
          "name": "stderr"
        },
        {
          "output_type": "stream",
          "text": [
            "Epoch 6/10\n",
            "Learning rate:  0.001\n",
            "1695/1695 [==============================] - 28s 17ms/step - loss: 0.1208 - accuracy: 0.9633 - val_loss: 0.1305 - val_accuracy: 0.9605\n"
          ],
          "name": "stdout"
        },
        {
          "output_type": "stream",
          "text": [
            "WARNING:absl:Found untraced functions such as lstm_cell_layer_call_fn, lstm_cell_layer_call_and_return_conditional_losses, lstm_cell_1_layer_call_fn, lstm_cell_1_layer_call_and_return_conditional_losses, lstm_cell_2_layer_call_fn while saving (showing 5 of 15). These functions will not be directly callable after loading.\n",
            "WARNING:absl:Found untraced functions such as lstm_cell_layer_call_fn, lstm_cell_layer_call_and_return_conditional_losses, lstm_cell_1_layer_call_fn, lstm_cell_1_layer_call_and_return_conditional_losses, lstm_cell_2_layer_call_fn while saving (showing 5 of 15). These functions will not be directly callable after loading.\n"
          ],
          "name": "stderr"
        },
        {
          "output_type": "stream",
          "text": [
            "INFO:tensorflow:Assets written to: drive/MyDrive/speaker/checkpoint_model_lstm3/assets\n"
          ],
          "name": "stdout"
        },
        {
          "output_type": "stream",
          "text": [
            "INFO:tensorflow:Assets written to: drive/MyDrive/speaker/checkpoint_model_lstm3/assets\n"
          ],
          "name": "stderr"
        },
        {
          "output_type": "stream",
          "text": [
            "Epoch 7/10\n",
            "Learning rate:  0.001\n",
            "1695/1695 [==============================] - 29s 17ms/step - loss: 0.1098 - accuracy: 0.9655 - val_loss: 0.1438 - val_accuracy: 0.9563\n",
            "Epoch 8/10\n",
            "Learning rate:  0.001\n",
            "1695/1695 [==============================] - 29s 17ms/step - loss: 0.0954 - accuracy: 0.9698 - val_loss: 0.1352 - val_accuracy: 0.9609\n"
          ],
          "name": "stdout"
        },
        {
          "output_type": "stream",
          "text": [
            "WARNING:absl:Found untraced functions such as lstm_cell_layer_call_fn, lstm_cell_layer_call_and_return_conditional_losses, lstm_cell_1_layer_call_fn, lstm_cell_1_layer_call_and_return_conditional_losses, lstm_cell_2_layer_call_fn while saving (showing 5 of 15). These functions will not be directly callable after loading.\n",
            "WARNING:absl:Found untraced functions such as lstm_cell_layer_call_fn, lstm_cell_layer_call_and_return_conditional_losses, lstm_cell_1_layer_call_fn, lstm_cell_1_layer_call_and_return_conditional_losses, lstm_cell_2_layer_call_fn while saving (showing 5 of 15). These functions will not be directly callable after loading.\n"
          ],
          "name": "stderr"
        },
        {
          "output_type": "stream",
          "text": [
            "INFO:tensorflow:Assets written to: drive/MyDrive/speaker/checkpoint_model_lstm3/assets\n"
          ],
          "name": "stdout"
        },
        {
          "output_type": "stream",
          "text": [
            "INFO:tensorflow:Assets written to: drive/MyDrive/speaker/checkpoint_model_lstm3/assets\n"
          ],
          "name": "stderr"
        },
        {
          "output_type": "stream",
          "text": [
            "Epoch 9/10\n",
            "Learning rate:  0.001\n",
            "1695/1695 [==============================] - 29s 17ms/step - loss: 0.0868 - accuracy: 0.9722 - val_loss: 0.1261 - val_accuracy: 0.9658\n"
          ],
          "name": "stdout"
        },
        {
          "output_type": "stream",
          "text": [
            "WARNING:absl:Found untraced functions such as lstm_cell_layer_call_fn, lstm_cell_layer_call_and_return_conditional_losses, lstm_cell_1_layer_call_fn, lstm_cell_1_layer_call_and_return_conditional_losses, lstm_cell_2_layer_call_fn while saving (showing 5 of 15). These functions will not be directly callable after loading.\n",
            "WARNING:absl:Found untraced functions such as lstm_cell_layer_call_fn, lstm_cell_layer_call_and_return_conditional_losses, lstm_cell_1_layer_call_fn, lstm_cell_1_layer_call_and_return_conditional_losses, lstm_cell_2_layer_call_fn while saving (showing 5 of 15). These functions will not be directly callable after loading.\n"
          ],
          "name": "stderr"
        },
        {
          "output_type": "stream",
          "text": [
            "INFO:tensorflow:Assets written to: drive/MyDrive/speaker/checkpoint_model_lstm3/assets\n"
          ],
          "name": "stdout"
        },
        {
          "output_type": "stream",
          "text": [
            "INFO:tensorflow:Assets written to: drive/MyDrive/speaker/checkpoint_model_lstm3/assets\n"
          ],
          "name": "stderr"
        },
        {
          "output_type": "stream",
          "text": [
            "Epoch 10/10\n",
            "Learning rate:  0.001\n",
            "1695/1695 [==============================] - 29s 17ms/step - loss: 0.0698 - accuracy: 0.9789 - val_loss: 0.1366 - val_accuracy: 0.9593\n"
          ],
          "name": "stdout"
        }
      ]
    },
    {
      "cell_type": "code",
      "metadata": {
        "id": "ERSq1HNNmX5m",
        "colab": {
          "base_uri": "https://localhost:8080/"
        },
        "outputId": "4c7fac2a-0efa-4f7b-f749-5d635c4f2de9"
      },
      "source": [
        "# Score trained model.\n",
        "scores = model.evaluate(x_test, y_test, verbose=1)\n",
        "print('Test loss:', scores[0])\n",
        "print('Test accuracy:', scores[1])"
      ],
      "execution_count": null,
      "outputs": [
        {
          "output_type": "stream",
          "text": [
            "214/214 [==============================] - 2s 8ms/step - loss: 0.2663 - accuracy: 0.9571\n",
            "Test loss: 0.26626452803611755\n",
            "Test accuracy: 0.9571323990821838\n"
          ],
          "name": "stdout"
        }
      ]
    },
    {
      "cell_type": "code",
      "metadata": {
        "id": "NjTr1qsE4s9N",
        "colab": {
          "base_uri": "https://localhost:8080/"
        },
        "outputId": "bf993440-570e-4714-b022-fdb7c3b57207"
      },
      "source": [
        "history.history"
      ],
      "execution_count": 27,
      "outputs": [
        {
          "output_type": "execute_result",
          "data": {
            "text/plain": [
              "{'accuracy': [0.8051335215568542,\n",
              "  0.9151792526245117,\n",
              "  0.9370482563972473,\n",
              "  0.9473373889923096,\n",
              "  0.9557825922966003,\n",
              "  0.9617568850517273,\n",
              "  0.9651497006416321,\n",
              "  0.968874454498291,\n",
              "  0.972027599811554,\n",
              "  0.9753282070159912],\n",
              " 'loss': [0.6241527795791626,\n",
              "  0.2692091763019562,\n",
              "  0.20479226112365723,\n",
              "  0.16821333765983582,\n",
              "  0.14285139739513397,\n",
              "  0.12492372840642929,\n",
              "  0.11194667220115662,\n",
              "  0.0989048182964325,\n",
              "  0.08925987780094147,\n",
              "  0.07942590117454529],\n",
              " 'lr': [0.001, 0.001, 0.001, 0.001, 0.001, 0.001, 0.001, 0.001, 0.001, 0.001],\n",
              " 'val_accuracy': [0.9232549071311951,\n",
              "  0.943975031375885,\n",
              "  0.9487024545669556,\n",
              "  0.9523234963417053,\n",
              "  0.9575538039207458,\n",
              "  0.9604707360267639,\n",
              "  0.9563468098640442,\n",
              "  0.9608730673789978,\n",
              "  0.9658016562461853,\n",
              "  0.9592637419700623],\n",
              " 'val_loss': [0.2360217273235321,\n",
              "  0.18008707463741302,\n",
              "  0.17784786224365234,\n",
              "  0.15600378811359406,\n",
              "  0.14184923470020294,\n",
              "  0.13053177297115326,\n",
              "  0.14378777146339417,\n",
              "  0.13517093658447266,\n",
              "  0.12606637179851532,\n",
              "  0.13658387959003448]}"
            ]
          },
          "metadata": {
            "tags": []
          },
          "execution_count": 27
        }
      ]
    },
    {
      "cell_type": "code",
      "metadata": {
        "colab": {
          "base_uri": "https://localhost:8080/",
          "height": 573
        },
        "id": "Btaharkc_u2l",
        "outputId": "856598fb-61e8-4828-cc39-5f5c79b59def"
      },
      "source": [
        "import matplotlib.pyplot as plt\n",
        "\n",
        "# summarize history for accuracy\n",
        "plt.plot(model.history.history['accuracy'])\n",
        "plt.plot(model.history.history['val_accuracy'])\n",
        "plt.title('model accuracy')\n",
        "plt.ylabel('accuracy')\n",
        "plt.xlabel('epoch')\n",
        "plt.legend(['train', 'test'], loc='upper left')\n",
        "plt.show()\n",
        "# summarize history for loss\n",
        "plt.plot(model.history.history['loss'])\n",
        "plt.plot(model.history.history['val_loss'])\n",
        "plt.title('model loss')\n",
        "plt.ylabel('loss')\n",
        "plt.xlabel('epoch')\n",
        "plt.legend(['train', 'test'], loc='upper left')\n",
        "plt.show()"
      ],
      "execution_count": 28,
      "outputs": [
        {
          "output_type": "display_data",
          "data": {
            "image/png": "[encoded data removed]",
            "text/plain": [
              "<Figure size 432x288 with 1 Axes>"
            ]
          },
          "metadata": {
            "tags": [],
            "needs_background": "light"
          }
        },
        {
          "output_type": "display_data",
          "data": {
            "image/png": "[encoded data removed]",
            "text/plain": [
              "<Figure size 432x288 with 1 Axes>"
            ]
          },
          "metadata": {
            "tags": [],
            "needs_background": "light"
          }
        }
      ]
    },
    {
      "cell_type": "code",
      "metadata": {
        "id": "PYgQ90mC_1jU"
      },
      "source": [
        ""
      ],
      "execution_count": null,
      "outputs": []
    }
  ]
}