{
 "cells": [
  {
   "cell_type": "markdown",
   "metadata": {},
   "source": [
    "# test data set to numpy tensor"
   ]
  },
  {
   "cell_type": "code",
   "execution_count": 2,
   "metadata": {},
   "outputs": [],
   "source": [
    "import numpy as np\n",
    "from PIL import Image\n",
    "import os\n",
    "import tensorflow as tf"
   ]
  },
  {
   "cell_type": "code",
   "execution_count": 42,
   "metadata": {},
   "outputs": [
    {
     "data": {
      "text/plain": [
       "['doing_the_dishes.png',\n",
       " 'white_noise.png',\n",
       " 'exercise_bike.png',\n",
       " 'pink_noise.png',\n",
       " 'dude_miaowing.png',\n",
       " 'running_tap.png']"
      ]
     },
     "execution_count": 42,
     "metadata": {},
     "output_type": "execute_result"
    }
   ],
   "source": [
    "os.listdir(\"_background_noise_/\")"
   ]
  },
  {
   "cell_type": "code",
   "execution_count": 43,
   "metadata": {},
   "outputs": [],
   "source": [
    "X_data = []\n",
    "dirr = np.sort(os.listdir(\"_background_noise_\"))\n",
    "for my_file in dirr:\n",
    "    image = Image.open(\"_background_noise_/\"+my_file).convert('RGB')\n",
    "    image = np.array(image)\n",
    "    X_data.append(image)"
   ]
  },
  {
   "cell_type": "code",
   "execution_count": 44,
   "metadata": {},
   "outputs": [],
   "source": [
    "X_data2 = []\n",
    "for noise in X_data:\n",
    "    temp=np.array_split(noise,noise.shape[0]//99+1)\n",
    "    X_data2=X_data2+temp"
   ]
  },
  {
   "cell_type": "code",
   "execution_count": 45,
   "metadata": {},
   "outputs": [],
   "source": [
    "X_data=X_data2"
   ]
  },
  {
   "cell_type": "code",
   "execution_count": 46,
   "metadata": {},
   "outputs": [],
   "source": [
    "img_all=np.zeros([len(X_data),99,161,3],dtype=\"uint8\")"
   ]
  },
  {
   "cell_type": "code",
   "execution_count": 47,
   "metadata": {},
   "outputs": [],
   "source": [
    "for i in range(len(X_data)):\n",
    "    img_all[i][0:len(X_data[i]),0:len(X_data[i][0])]=X_data[i]"
   ]
  },
  {
   "cell_type": "code",
   "execution_count": 48,
   "metadata": {},
   "outputs": [],
   "source": [
    "np.save(\"_background_noise_/noise.npy\",img_all)"
   ]
  },
  {
   "cell_type": "code",
   "execution_count": 49,
   "metadata": {},
   "outputs": [],
   "source": [
    "noise = np.load('_background_noise_/noise.npy')"
   ]
  },
  {
   "cell_type": "code",
   "execution_count": 50,
   "metadata": {},
   "outputs": [],
   "source": [
    "os.mkdir(\"_background_noise_/noise/\")\n",
    "for i in range(noise.shape[0]):\n",
    "    img = Image.fromarray(noise[i], 'RGB')\n",
    "    img.save('_background_noise_/noise/split'+str(i)+'.png')"
   ]
  },
  {
   "cell_type": "code",
   "execution_count": 52,
   "metadata": {},
   "outputs": [
    {
     "name": "stdout",
     "output_type": "stream",
     "text": [
      "Found 406 images belonging to 1 classes.\n"
     ]
    }
   ],
   "source": [
    "train_datagen = tf.keras.preprocessing.image.ImageDataGenerator(width_shift_range=0.1,height_shift_range=0.1,horizontal_flip=True,vertical_flip=True,\n",
    "                                                                brightness_range=(0.8,1.2),fill_mode=\"wrap\",rotation_range=10)\n",
    "train_generator = train_datagen.flow_from_directory(\n",
    "    \n",
    "        \"_background_noise_/\",target_size=(99, 161),save_to_dir=\"_background_noise_/noise\",batch_size=32,\n",
    "        class_mode=None,seed=123)"
   ]
  },
  {
   "cell_type": "code",
   "execution_count": 53,
   "metadata": {},
   "outputs": [
    {
     "name": "stdout",
     "output_type": "stream",
     "text": [
      "1\n",
      "21\n",
      "41\n",
      "61\n",
      "81\n",
      "101\n",
      "121\n",
      "141\n",
      "161\n",
      "181\n",
      "201\n",
      "221\n",
      "241\n",
      "261\n",
      "281\n",
      "301\n",
      "321\n",
      "341\n",
      "361\n",
      "381\n",
      "401\n",
      "421\n",
      "441\n",
      "461\n",
      "481\n",
      "501\n",
      "521\n",
      "541\n",
      "561\n",
      "581\n",
      "601\n",
      "621\n",
      "641\n",
      "661\n",
      "681\n",
      "701\n",
      "721\n",
      "741\n",
      "761\n",
      "781\n",
      "801\n",
      "821\n",
      "841\n",
      "861\n",
      "881\n",
      "901\n",
      "921\n",
      "941\n",
      "961\n",
      "981\n",
      "1001\n",
      "1021\n",
      "1041\n",
      "1061\n",
      "1081\n",
      "1101\n",
      "1121\n",
      "1141\n",
      "1161\n",
      "1181\n",
      "1201\n",
      "1221\n",
      "1241\n",
      "1261\n",
      "1281\n",
      "1301\n",
      "1321\n",
      "1341\n",
      "1361\n",
      "1381\n",
      "1401\n",
      "1421\n",
      "1441\n",
      "1461\n",
      "1481\n",
      "1501\n",
      "1521\n",
      "1541\n",
      "1561\n",
      "1581\n",
      "1601\n",
      "1621\n",
      "1641\n",
      "1661\n",
      "1681\n",
      "1701\n",
      "1721\n",
      "1741\n",
      "1761\n",
      "1781\n",
      "1801\n",
      "1821\n",
      "1841\n",
      "1861\n",
      "1881\n",
      "1901\n",
      "1921\n",
      "1941\n",
      "1961\n",
      "1981\n"
     ]
    }
   ],
   "source": [
    "for i in range(2000):\n",
    "    if i%20==1:\n",
    "        print(i)\n",
    "    train_generator.next()"
   ]
  },
  {
   "cell_type": "code",
   "execution_count": 54,
   "metadata": {},
   "outputs": [],
   "source": [
    "X_data = []\n",
    "dirr = np.sort(os.listdir(\"_background_noise_/noise\"))\n",
    "for my_file in dirr:\n",
    "    image = Image.open(\"_background_noise_/noise/\"+my_file).convert('RGB')\n",
    "    image = np.array(image)\n",
    "    X_data.append(image)"
   ]
  },
  {
   "cell_type": "code",
   "execution_count": 55,
   "metadata": {},
   "outputs": [],
   "source": [
    "img_all=np.zeros([len(X_data),99,161,3],dtype=\"uint8\")"
   ]
  },
  {
   "cell_type": "code",
   "execution_count": 56,
   "metadata": {},
   "outputs": [],
   "source": [
    "for i in range(len(X_data)):\n",
    "    img_all[i][0:len(X_data[i]),0:len(X_data[i][0])]=X_data[i]"
   ]
  },
  {
   "cell_type": "code",
   "execution_count": 57,
   "metadata": {},
   "outputs": [],
   "source": [
    "np.save(\"_background_noise_/noise_aug.npy\",img_all)"
   ]
  },
  {
   "cell_type": "code",
   "execution_count": 3,
   "metadata": {},
   "outputs": [],
   "source": [
    "train = np.load('_background_noise_/noise_aug.npy')\n",
    "\n",
    "train.shape\n",
    "\n",
    "split = np.array_split(train, 10)\n",
    "\n",
    "converted_data = []\n",
    "\n",
    "for chunks in split:\n",
    "    converted_data.append(tf.image.rgb_to_grayscale(chunks))\n",
    "\n",
    "train_gray = np.concatenate(converted_data, axis=0)\n",
    "\n",
    "np.save('_background_noise_/noise_aug_grey.npy', train_gray)"
   ]
  },
  {
   "cell_type": "code",
   "execution_count": 5,
   "metadata": {},
   "outputs": [],
   "source": [
    "train = np.load('_background_noise_/noise.npy')\n",
    "\n",
    "train.shape\n",
    "\n",
    "split = np.array_split(train, 10)\n",
    "\n",
    "converted_data = []\n",
    "\n",
    "for chunks in split:\n",
    "    converted_data.append(tf.image.rgb_to_grayscale(chunks))\n",
    "\n",
    "train_gray = np.concatenate(converted_data, axis=0)\n",
    "\n",
    "np.save('_background_noise_/noise_grey.npy', train_gray)"
   ]
  },
  {
   "cell_type": "code",
   "execution_count": null,
   "metadata": {},
   "outputs": [],
   "source": []
  }
 ],
 "metadata": {
  "colab": {
   "authorship_tag": "ABX9TyPK7Ki8uTWCrjm0tTfs9r8d",
   "collapsed_sections": [],
   "name": "CONV.ipynb",
   "provenance": []
  },
  "kernelspec": {
   "display_name": "Python 3",
   "language": "python",
   "name": "python3"
  },
  "language_info": {
   "codemirror_mode": {
    "name": "ipython",
    "version": 3
   },
   "file_extension": ".py",
   "mimetype": "text/x-python",
   "name": "python",
   "nbconvert_exporter": "python",
   "pygments_lexer": "ipython3",
   "version": "3.8.5"
  }
 },
 "nbformat": 4,
 "nbformat_minor": 1
}
