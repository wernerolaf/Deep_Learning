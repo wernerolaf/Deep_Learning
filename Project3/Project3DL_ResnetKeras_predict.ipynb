{
  "nbformat": 4,
  "nbformat_minor": 0,
  "metadata": {
    "colab": {
      "name": "Project3DL_ResnetKeras_predict.ipynb",
      "provenance": [],
      "collapsed_sections": []
    },
    "kernelspec": {
      "display_name": "Python 3",
      "language": "python",
      "name": "python3"
    },
    "language_info": {
      "codemirror_mode": {
        "name": "ipython",
        "version": 3
      },
      "file_extension": ".py",
      "mimetype": "text/x-python",
      "name": "python",
      "nbconvert_exporter": "python",
      "pygments_lexer": "ipython3",
      "version": "3.8.5"
    },
    "accelerator": "GPU"
  },
  "cells": [
    {
      "cell_type": "code",
      "metadata": {
        "id": "TK-9QVIPaQQY"
      },
      "source": [
        "import pandas as pd\n",
        "import keras\n",
        "from keras.layers import Dense, Conv2D, BatchNormalization, Activation\n",
        "from keras.layers import AveragePooling2D, Input, Flatten\n",
        "from keras.optimizers import Adam\n",
        "from keras.callbacks import ModelCheckpoint, LearningRateScheduler\n",
        "from keras.callbacks import ReduceLROnPlateau\n",
        "from keras.preprocessing.image import ImageDataGenerator\n",
        "from keras.regularizers import l2\n",
        "from keras import backend as K\n",
        "from keras.models import Model\n",
        "import numpy as np\n",
        "import os"
      ],
      "execution_count": 1,
      "outputs": []
    },
    {
      "cell_type": "code",
      "metadata": {
        "colab": {
          "base_uri": "https://localhost:8080/"
        },
        "id": "WJE9nN6XLEr2",
        "outputId": "4c3aa390-2b25-4286-b454-078913e71c89"
      },
      "source": [
        "from google.colab import drive\n",
        "drive.mount('/content/drive')"
      ],
      "execution_count": 2,
      "outputs": [
        {
          "output_type": "stream",
          "text": [
            "Drive already mounted at /content/drive; to attempt to forcibly remount, call drive.mount(\"/content/drive\", force_remount=True).\n"
          ],
          "name": "stdout"
        }
      ]
    },
    {
      "cell_type": "code",
      "metadata": {
        "id": "uiz83hFvRcBM"
      },
      "source": [
        "X_all=np.load(\"drive/MyDrive/speaker/train_gray.npy\")\n",
        "\n",
        "X_all = X_all.astype('float16')\n",
        "X_all = X_all/255\n",
        "\n",
        "Y_all=pd.read_csv(\"drive/MyDrive/speaker/filelist.csv\",index_col=0)\n",
        "\n",
        "X_all.shape\n",
        "\n",
        "Y_all.shape\n",
        "\n",
        "test=np.loadtxt(\"drive/MyDrive/speaker/testing_list.txt\",dtype=\"str\")\n",
        "\n",
        "test=np.char.replace(test,\".wav\",\"\")\n",
        "\n",
        "test=np.char.split(test,\"/\")\n",
        "\n",
        "test_name=np.array([x[1] for x in test])\n",
        "test_type=np.array([x[0] for x in test])\n",
        "\n",
        "valid=np.loadtxt(\"drive/MyDrive/speaker/validation_list.txt\",dtype=\"str\")\n",
        "\n",
        "valid=np.char.replace(valid,\".wav\",\"\")\n",
        "\n",
        "valid=np.char.split(valid,\"/\")\n",
        "\n",
        "valid_name=np.array([x[1] for x in valid])\n",
        "valid_type=np.array([x[0] for x in valid])\n",
        "\n",
        "Y_all.Name=Y_all.Name.str.replace(\".png\",\"\")\n",
        "\n",
        "Y_all[\"Index\"]=Y_all.index\n",
        "\n",
        "valid=pd.DataFrame({\"Name\":valid_name,\"Type\":valid_type})\n",
        "\n",
        "test=pd.DataFrame({\"Name\":test_name,\"Type\":test_type})\n",
        "\n",
        "valid=pd.merge(Y_all,valid,on=[\"Name\",\"Type\"],how=\"right\")\n",
        "\n",
        "test=pd.merge(Y_all,test,on=[\"Name\",\"Type\"],how=\"right\")\n",
        "\n",
        "Y_all=Y_all[~Y_all.Index.isin(valid.Index)]\n",
        "Y_all=Y_all[~Y_all.Index.isin(test.Index)]\n",
        "\n",
        "x_train=X_all[Y_all.Index]\n",
        "\n",
        "y_train=Y_all.Type.to_numpy()\n",
        "\n",
        "classes=np.unique(y_train)\n",
        "\n",
        "del X_all\n",
        "\n",
        "del Y_all"
      ],
      "execution_count": 3,
      "outputs": []
    },
    {
      "cell_type": "code",
      "metadata": {
        "id": "XNnvJ_WKVaj3"
      },
      "source": [
        "commands=[\"yes\", \"no\", \"up\", \"down\", \"left\", \"right\", \"on\", \"off\", \"stop\", \"go\"]"
      ],
      "execution_count": 4,
      "outputs": []
    },
    {
      "cell_type": "code",
      "metadata": {
        "id": "jnkY9TX8WGgn"
      },
      "source": [
        "y_train[np.isin(y_train,commands,invert=True)]=\"unknown\""
      ],
      "execution_count": 5,
      "outputs": []
    },
    {
      "cell_type": "code",
      "metadata": {
        "id": "nauHjhj0SK0m"
      },
      "source": [
        "from sklearn import preprocessing\n",
        "pre = preprocessing.LabelEncoder()\n",
        "pre.fit(y_train)\n",
        "y_train = pre.transform(y_train)"
      ],
      "execution_count": 6,
      "outputs": []
    },
    {
      "cell_type": "code",
      "metadata": {
        "id": "tl8-54zQixvl"
      },
      "source": [
        "subtract_pixel_mean = True"
      ],
      "execution_count": 7,
      "outputs": []
    },
    {
      "cell_type": "code",
      "metadata": {
        "id": "f3ZehYVarJh-"
      },
      "source": [
        "import tensorflow as tf\n",
        "checkpoint_filepath = 'drive/MyDrive/speaker/checkpoint_model_resnet'"
      ],
      "execution_count": 8,
      "outputs": []
    },
    {
      "cell_type": "code",
      "metadata": {
        "id": "O3ENLtnVgHSk"
      },
      "source": [
        "if subtract_pixel_mean:\n",
        "    train_mean = np.mean(x_train, axis=0)"
      ],
      "execution_count": 9,
      "outputs": []
    },
    {
      "cell_type": "code",
      "metadata": {
        "id": "bzDIJtljgKxW"
      },
      "source": [
        "del x_train"
      ],
      "execution_count": 10,
      "outputs": []
    },
    {
      "cell_type": "code",
      "metadata": {
        "id": "rLcR_25Ec8zC"
      },
      "source": [
        "x_test=np.load(\"drive/MyDrive/speaker/test_grey.npy\")"
      ],
      "execution_count": 11,
      "outputs": []
    },
    {
      "cell_type": "code",
      "metadata": {
        "id": "E1sg0khKgRGc"
      },
      "source": [
        "x_test = x_test.astype('float16',copy=False)"
      ],
      "execution_count": 12,
      "outputs": []
    },
    {
      "cell_type": "code",
      "metadata": {
        "id": "JGOJ9HfhgSq7"
      },
      "source": [
        "x_test = x_test/255"
      ],
      "execution_count": 13,
      "outputs": []
    },
    {
      "cell_type": "code",
      "metadata": {
        "id": "5MX_mVqMc720"
      },
      "source": [
        "if subtract_pixel_mean:\n",
        "    x_test -= train_mean"
      ],
      "execution_count": 14,
      "outputs": []
    },
    {
      "cell_type": "code",
      "metadata": {
        "id": "tT0wzn53rV8l"
      },
      "source": [
        "model = tf.keras.models.load_model(checkpoint_filepath)"
      ],
      "execution_count": 15,
      "outputs": []
    },
    {
      "cell_type": "code",
      "metadata": {
        "id": "HC-jsAfxmOs2"
      },
      "source": [
        "test_name=pd.read_csv(\"drive/MyDrive/speaker/filelist_test.csv\",index_col=0)\n",
        "test_name=test_name.Name.str.replace(\".png\",\".wav\").to_numpy()"
      ],
      "execution_count": 16,
      "outputs": []
    },
    {
      "cell_type": "code",
      "metadata": {
        "id": "-gXse_dZsRtN",
        "colab": {
          "base_uri": "https://localhost:8080/"
        },
        "outputId": "fc761f72-c0f7-44a1-9ac2-333627e7e346"
      },
      "source": [
        "for i in range(4,6):\n",
        "  print(i)\n",
        "  pred=np.argmax(model.predict(x_test[i::6],batch_size=1000),axis=1)\n",
        "  pred=pre.inverse_transform(pred)\n",
        "  results=pd.DataFrame({\"fname\":test_name[i::6],\"label\":pred})\n",
        "  results.to_csv(\"drive/MyDrive/speaker/results\"+str(i)+\".csv\",index=None)\n",
        "  model.reset_states()"
      ],
      "execution_count": 17,
      "outputs": [
        {
          "output_type": "stream",
          "text": [
            "4\n",
            "5\n"
          ],
          "name": "stdout"
        }
      ]
    },
    {
      "cell_type": "code",
      "metadata": {
        "id": "Yph1Mvf1sBkS"
      },
      "source": [
        "res0=pd.read_csv(\"drive/MyDrive/speaker/results0.csv\")\n",
        "res1=pd.read_csv(\"drive/MyDrive/speaker/results1.csv\")\n",
        "res2=pd.read_csv(\"drive/MyDrive/speaker/results2.csv\")\n",
        "res3=pd.read_csv(\"drive/MyDrive/speaker/results3.csv\")\n",
        "res4=pd.read_csv(\"drive/MyDrive/speaker/results4.csv\")\n",
        "res5=pd.read_csv(\"drive/MyDrive/speaker/results5.csv\")"
      ],
      "execution_count": 19,
      "outputs": []
    },
    {
      "cell_type": "code",
      "metadata": {
        "id": "pReflUDU46P4"
      },
      "source": [
        "total_results=pd.concat([res0,res1,res2,res3,res4,res5])"
      ],
      "execution_count": 23,
      "outputs": []
    },
    {
      "cell_type": "code",
      "metadata": {
        "id": "Pxg20vto5IU9"
      },
      "source": [
        "total_results.to_csv(\"drive/MyDrive/speaker/results.csv\",index=None)"
      ],
      "execution_count": 24,
      "outputs": []
    },
    {
      "cell_type": "code",
      "metadata": {
        "id": "dgtE7-XB5hUX"
      },
      "source": [
        ""
      ],
      "execution_count": null,
      "outputs": []
    }
  ]
}